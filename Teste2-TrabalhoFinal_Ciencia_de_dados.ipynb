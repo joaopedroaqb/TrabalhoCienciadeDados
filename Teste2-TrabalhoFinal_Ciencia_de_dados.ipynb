{
  "nbformat": 4,
  "nbformat_minor": 0,
  "metadata": {
    "colab": {
      "provenance": []
    },
    "kernelspec": {
      "name": "python3",
      "display_name": "Python 3"
    },
    "language_info": {
      "name": "python"
    }
  },
  "cells": [
    {
      "cell_type": "markdown",
      "source": [
        "Importação das bibliotecas"
      ],
      "metadata": {
        "id": "T2jcTSIFb1SU"
      }
    },
    {
      "cell_type": "code",
      "source": [
        "pip install pandas"
      ],
      "metadata": {
        "id": "CPgVcHX2Re4q",
        "colab": {
          "base_uri": "https://localhost:8080/"
        },
        "outputId": "389b96e1-b12b-4b92-8f77-0483982f22fd"
      },
      "execution_count": 129,
      "outputs": [
        {
          "output_type": "stream",
          "name": "stdout",
          "text": [
            "Requirement already satisfied: pandas in /usr/local/lib/python3.10/dist-packages (1.5.3)\n",
            "Requirement already satisfied: python-dateutil>=2.8.1 in /usr/local/lib/python3.10/dist-packages (from pandas) (2.8.2)\n",
            "Requirement already satisfied: pytz>=2020.1 in /usr/local/lib/python3.10/dist-packages (from pandas) (2022.7.1)\n",
            "Requirement already satisfied: numpy>=1.21.0 in /usr/local/lib/python3.10/dist-packages (from pandas) (1.22.4)\n",
            "Requirement already satisfied: six>=1.5 in /usr/local/lib/python3.10/dist-packages (from python-dateutil>=2.8.1->pandas) (1.16.0)\n"
          ]
        }
      ]
    },
    {
      "cell_type": "code",
      "execution_count": 130,
      "metadata": {
        "id": "wWXu9CaWa7-C"
      },
      "outputs": [],
      "source": [
        "import pandas as pd\n",
        "import numpy as np\n",
        "import seaborn as sns\n",
        "from sklearn.metrics import confusion_matrix, accuracy_score\n",
        "import matplotlib.pyplot as plt\n",
        "import random"
      ]
    },
    {
      "cell_type": "code",
      "source": [
        "import pandas as pd\n",
        "\n",
        "data = pd.read_csv('/content/hepatitis.data', header=None)\n",
        "data.to_csv('hepatitis.csv', index=False)"
      ],
      "metadata": {
        "id": "FA4HJv-RP5vd"
      },
      "execution_count": 131,
      "outputs": []
    },
    {
      "cell_type": "code",
      "source": [
        "data = data.to_numpy()\n",
        "\n",
        "X = data[:,0:-1]\n",
        "y = data[:,-1]"
      ],
      "metadata": {
        "id": "gy4n7bhrRRXc"
      },
      "execution_count": 132,
      "outputs": []
    },
    {
      "cell_type": "code",
      "source": [
        "print(data)"
      ],
      "metadata": {
        "id": "7hjr9aLsT7v8",
        "colab": {
          "base_uri": "https://localhost:8080/"
        },
        "outputId": "bd375676-6178-4650-f172-3e40fbfc1fc0"
      },
      "execution_count": 133,
      "outputs": [
        {
          "output_type": "stream",
          "name": "stdout",
          "text": [
            "[[2 30 2 ... '4.0' '?' 1]\n",
            " [2 50 1 ... '3.5' '?' 1]\n",
            " [2 78 1 ... '4.0' '?' 1]\n",
            " ...\n",
            " [2 61 1 ... '4.1' '?' 2]\n",
            " [2 53 2 ... '4.1' '48' 2]\n",
            " [1 43 1 ... '3.1' '42' 2]]\n"
          ]
        }
      ]
    },
    {
      "cell_type": "code",
      "source": [
        "from sklearn.preprocessing import StandardScaler\n",
        "data = pd.read_csv('hepatitis.csv')\n",
        "data = data[data != '?'].dropna()\n",
        "X = data.values\n",
        "scaler = StandardScaler().fit(X)\n",
        "X = scaler.transform(X)\n",
        "print(data)"
      ],
      "metadata": {
        "id": "x8SmXTxPSjhl",
        "colab": {
          "base_uri": "https://localhost:8080/"
        },
        "outputId": "2bac9b51-ff0e-4aeb-c36e-4c5e04534b03"
      },
      "execution_count": 134,
      "outputs": [
        {
          "output_type": "stream",
          "name": "stdout",
          "text": [
            "     0   1  2  3  4  5  6  7  8  9 10 11 12 13    14   15   16   17  18  19\n",
            "5    2  34  1  2  2  2  2  2  2  2  2  2  2  2  0.90   95   28  4.0  75   1\n",
            "10   2  39  1  1  1  2  2  2  1  1  2  2  2  2  1.30   78   30  4.4  85   1\n",
            "11   2  32  1  2  1  1  2  2  2  1  2  1  2  2  1.00   59  249  3.7  54   1\n",
            "12   2  41  1  2  1  1  2  2  2  1  2  2  2  2  0.90   81   60  3.9  52   1\n",
            "13   2  30  1  2  2  1  2  2  2  1  2  2  2  2  2.20   57  144  4.9  78   1\n",
            "..  ..  .. .. .. .. .. .. .. .. .. .. .. .. ..   ...  ...  ...  ...  ..  ..\n",
            "139  2  45  1  2  1  2  2  2  2  2  2  2  2  2  1.30   85   44  4.2  85   2\n",
            "143  1  49  1  1  2  1  1  2  2  2  1  1  2  2  1.40   85   70  3.5  35   2\n",
            "145  2  31  1  1  2  1  2  2  2  2  2  2  2  2  1.20   75  173  4.2  54   2\n",
            "153  2  53  2  1  2  1  2  2  2  2  1  1  2  1  1.50   81   19  4.1  48   2\n",
            "154  1  43  1  2  2  1  2  2  2  2  1  1  1  2  1.20  100   19  3.1  42   2\n",
            "\n",
            "[80 rows x 20 columns]\n"
          ]
        }
      ]
    },
    {
      "cell_type": "code",
      "source": [
        "data = pd.read_csv('hepatitis.csv')\n",
        "data = data[data != '?'].dropna()"
      ],
      "metadata": {
        "id": "WjGr2k0TUBAK"
      },
      "execution_count": 135,
      "outputs": []
    },
    {
      "cell_type": "code",
      "source": [
        "X = data.iloc[:, :-1].values\n",
        "y = data.iloc[:, -1].values"
      ],
      "metadata": {
        "id": "d1sQa5eFUEhw"
      },
      "execution_count": 136,
      "outputs": []
    },
    {
      "cell_type": "code",
      "source": [
        "scaler = StandardScaler().fit(X)\n",
        "X = scaler.transform(X)"
      ],
      "metadata": {
        "id": "oCP3RmoDUHf5"
      },
      "execution_count": 137,
      "outputs": []
    },
    {
      "cell_type": "code",
      "source": [
        "from sklearn.model_selection import train_test_split\n",
        "\n",
        "p = 1\n",
        "x_train,x_test,y_train,y_test = train_test_split(X,y,test_size = p, random_state = 42)"
      ],
      "metadata": {
        "id": "TBfvCfBQRzME"
      },
      "execution_count": 138,
      "outputs": []
    },
    {
      "cell_type": "code",
      "source": [
        "from sklearn.neighbors import KNeighborsClassifier\n",
        "from sklearn.model_selection import train_test_split\n",
        "\n",
        "data = pd.read_csv('hepatitis.csv')\n",
        "\n",
        "data = data.replace('?', float('nan')).fillna(data.mean())\n",
        "\n",
        "x_train, x_test, y_train, y_test = train_test_split(X, y, test_size=1, random_state=42)\n",
        "\n",
        "\n",
        "k = 3\n",
        "model = KNeighborsClassifier(n_neighbors=k, metric='euclidean')\n",
        "\n",
        "model.fit(x_train, y_train)\n",
        "\n",
        "y_pred = model.predict(x_test)\n"
      ],
      "metadata": {
        "id": "-td5VmPXSZfK",
        "colab": {
          "base_uri": "https://localhost:8080/"
        },
        "outputId": "f4f9e376-dca2-46a4-ec7d-a3213b991060"
      },
      "execution_count": 139,
      "outputs": [
        {
          "output_type": "stream",
          "name": "stderr",
          "text": [
            "<ipython-input-139-76591f1a9951>:6: FutureWarning: The default value of numeric_only in DataFrame.mean is deprecated. In a future version, it will default to False. In addition, specifying 'numeric_only=None' is deprecated. Select only valid columns or specify the value of numeric_only to silence this warning.\n",
            "  data = data.replace('?', float('nan')).fillna(data.mean())\n"
          ]
        }
      ]
    },
    {
      "cell_type": "code",
      "source": [
        "data = data.replace('?', float('nan')).fillna(data.mean(numeric_only=True))\n",
        "print(data)"
      ],
      "metadata": {
        "id": "op3_9TEoVLAQ",
        "colab": {
          "base_uri": "https://localhost:8080/"
        },
        "outputId": "994483b7-13d3-4677-bf6f-19d6a3cc3d27"
      },
      "execution_count": 140,
      "outputs": [
        {
          "output_type": "stream",
          "name": "stdout",
          "text": [
            "     0   1  2    3  4  5  6  7  8  9 10 11 12 13    14   15   16   17   18  19\n",
            "0    2  30  2    1  2  2  2  2  1  2  2  2  2  2  1.00   85   18  4.0  NaN   1\n",
            "1    2  50  1    1  2  1  2  2  1  2  2  2  2  2  0.90  135   42  3.5  NaN   1\n",
            "2    2  78  1    2  2  1  2  2  2  2  2  2  2  2  0.70   96   32  4.0  NaN   1\n",
            "3    2  31  1  NaN  1  2  2  2  2  2  2  2  2  2  0.70   46   52  4.0   80   1\n",
            "4    2  34  1    2  2  2  2  2  2  2  2  2  2  2  1.00  NaN  200  4.0  NaN   1\n",
            "..  ..  .. ..  ... .. .. .. .. .. .. .. .. .. ..   ...  ...  ...  ...  ...  ..\n",
            "150  1  46  1    2  2  1  1  1  2  2  2  1  1  1  7.60  NaN  242  3.3   50   2\n",
            "151  2  44  1    2  2  1  2  2  2  1  2  2  2  2  0.90  126  142  4.3  NaN   2\n",
            "152  2  61  1    1  2  1  1  2  1  1  2  1  2  2  0.80   75   20  4.1  NaN   2\n",
            "153  2  53  2    1  2  1  2  2  2  2  1  1  2  1  1.50   81   19  4.1   48   2\n",
            "154  1  43  1    2  2  1  2  2  2  2  1  1  1  2  1.20  100   19  3.1   42   2\n",
            "\n",
            "[155 rows x 20 columns]\n"
          ]
        }
      ]
    },
    {
      "cell_type": "code",
      "source": [
        "data = data.dropna()\n",
        "data = data.dropna(axis='columns')\n",
        "print(data)"
      ],
      "metadata": {
        "id": "0NoPx8EnVcz5",
        "colab": {
          "base_uri": "https://localhost:8080/"
        },
        "outputId": "38df4d48-1f7b-416b-8661-9a9bbc062a2d"
      },
      "execution_count": 141,
      "outputs": [
        {
          "output_type": "stream",
          "name": "stdout",
          "text": [
            "     0   1  2  3  4  5  6  7  8  9 10 11 12 13    14   15   16   17  18  19\n",
            "5    2  34  1  2  2  2  2  2  2  2  2  2  2  2  0.90   95   28  4.0  75   1\n",
            "10   2  39  1  1  1  2  2  2  1  1  2  2  2  2  1.30   78   30  4.4  85   1\n",
            "11   2  32  1  2  1  1  2  2  2  1  2  1  2  2  1.00   59  249  3.7  54   1\n",
            "12   2  41  1  2  1  1  2  2  2  1  2  2  2  2  0.90   81   60  3.9  52   1\n",
            "13   2  30  1  2  2  1  2  2  2  1  2  2  2  2  2.20   57  144  4.9  78   1\n",
            "..  ..  .. .. .. .. .. .. .. .. .. .. .. .. ..   ...  ...  ...  ...  ..  ..\n",
            "139  2  45  1  2  1  2  2  2  2  2  2  2  2  2  1.30   85   44  4.2  85   2\n",
            "143  1  49  1  1  2  1  1  2  2  2  1  1  2  2  1.40   85   70  3.5  35   2\n",
            "145  2  31  1  1  2  1  2  2  2  2  2  2  2  2  1.20   75  173  4.2  54   2\n",
            "153  2  53  2  1  2  1  2  2  2  2  1  1  2  1  1.50   81   19  4.1  48   2\n",
            "154  1  43  1  2  2  1  2  2  2  2  1  1  1  2  1.20  100   19  3.1  42   2\n",
            "\n",
            "[80 rows x 20 columns]\n"
          ]
        }
      ]
    },
    {
      "cell_type": "code",
      "source": [
        "from sklearn.neighbors import KNeighborsClassifier\n",
        "from sklearn.metrics import accuracy_score\n",
        "\n",
        "k=3\n",
        "\n",
        "model = KNeighborsClassifier(n_neighbors=k, metric ='euclidean')\n",
        "\n",
        "model.fit(x_train,y_train)\n",
        "\n",
        "y_pred = model.predict(x_test)\n",
        "\n",
        "score = accuracy_score(y_pred,y_test)\n",
        "print(\"Acuracia: \",score)"
      ],
      "metadata": {
        "colab": {
          "base_uri": "https://localhost:8080/"
        },
        "id": "yZRyKUDIh2pO",
        "outputId": "7b65841e-0c18-4d38-bfcc-aac5613970b1"
      },
      "execution_count": 142,
      "outputs": [
        {
          "output_type": "stream",
          "name": "stdout",
          "text": [
            "Acuracia:  1.0\n"
          ]
        }
      ]
    },
    {
      "cell_type": "code",
      "source": [
        "from sklearn.ensemble import RandomForestClassifier\n",
        "model = RandomForestClassifier(n_estimators = 100, bootstrap = True,\n",
        "                               class_weight = None,\n",
        "                               max_depth = None,\n",
        "                               criterion= 'gini',\n",
        "                               max_features = 'sqrt',\n",
        "                               max_leaf_nodes = None,\n",
        "                               min_impurity_decrease = 0.0,\n",
        "                               min_samples_leaf = 3, min_samples_split = 3,\n",
        "                               min_weight_fraction_leaf = 0.0, n_jobs = 3,\n",
        "                               oob_score = False,\n",
        "                               random_state = None, verbose = 0,\n",
        "                               warm_start = False)\n",
        "\n",
        "model.fit(x_train, y_train)\n",
        "\n",
        "y_pred = model.predict(x_test)\n",
        "score = accuracy_score(y_test,y_pred)\n",
        "print(\"Acuracia\",score)\n"
      ],
      "metadata": {
        "colab": {
          "base_uri": "https://localhost:8080/"
        },
        "id": "q0iVhlI0lqm4",
        "outputId": "94905d34-8f38-45be-b896-05419d2c5db4"
      },
      "execution_count": 143,
      "outputs": [
        {
          "output_type": "stream",
          "name": "stdout",
          "text": [
            "Acuracia 1.0\n"
          ]
        }
      ]
    },
    {
      "cell_type": "code",
      "source": [
        "from sklearn.linear_model import LogisticRegression\n",
        "\n",
        "model = LogisticRegression(solver ='lbfgs', max_iter= 100)\n",
        "model.fit(x_train,y_train)\n",
        "\n",
        "y_pred = model.predict(x_test)\n",
        "\n",
        "score = accuracy_score(y_pred,y_test)\n",
        "print(\"ACurácia: \",score)"
      ],
      "metadata": {
        "colab": {
          "base_uri": "https://localhost:8080/"
        },
        "id": "rW5KmLhGh4Wu",
        "outputId": "2b857775-8c33-4499-9fb9-da11f740fd3c"
      },
      "execution_count": 144,
      "outputs": [
        {
          "output_type": "stream",
          "name": "stdout",
          "text": [
            "ACurácia:  1.0\n"
          ]
        }
      ]
    },
    {
      "cell_type": "code",
      "source": [
        "from sklearn.naive_bayes import GaussianNB\n",
        "\n",
        "model = GaussianNB()\n",
        "model.fit(x_train,y_train)\n",
        "\n",
        "y_pred = model.predict(x_test)\n",
        "\n",
        "score = accuracy_score(y_pred,y_test)\n",
        "print(\"Acurácia: \",score)"
      ],
      "metadata": {
        "colab": {
          "base_uri": "https://localhost:8080/"
        },
        "id": "vGvrTaMGiLRa",
        "outputId": "415df6c1-e7dc-44bb-cf2a-9823d81369f8"
      },
      "execution_count": 145,
      "outputs": [
        {
          "output_type": "stream",
          "name": "stdout",
          "text": [
            "Acurácia:  1.0\n"
          ]
        }
      ]
    },
    {
      "cell_type": "code",
      "source": [
        "import torch"
      ],
      "metadata": {
        "id": "EW_2wnUDmVSd"
      },
      "execution_count": 146,
      "outputs": []
    },
    {
      "cell_type": "code",
      "source": [
        "class Net(torch.nn.Module):\n",
        "  def __init__(self, input_size, hidden_size):\n",
        "    super(Net, self).__init__()\n",
        "    self.input_size = input_size\n",
        "    self.hidden_size = hidden_size\n",
        "    self.fc1 = torch.nn.Linear(self.input_size, self.hidden_size) #full connected\n",
        "    self.relu = torch.nn.ReLU() #(0, infinito)\n",
        "    self.fc2 = torch.nn.Linear(self.hidden_size, 1)\n",
        "    self.sigmoid = torch.nn.Sigmoid() #(0, 1)\n",
        "  def forward(self, x):\n",
        "    hidden = self.fc1(x)\n",
        "    relu = self.relu(hidden)\n",
        "    output = self.fc2(relu)\n",
        "    output = self.sigmoid(output)\n",
        "    return output"
      ],
      "metadata": {
        "id": "zxehxGMSmcjU"
      },
      "execution_count": 147,
      "outputs": []
    },
    {
      "cell_type": "code",
      "source": [
        "from sklearn import datasets\n",
        "bc = datasets.load_breast_cancer()\n",
        "dados = bc.data\n",
        "classes = bc.target\n",
        "nomesClasses = bc.target_names"
      ],
      "metadata": {
        "id": "F3hwlNdcmfE2"
      },
      "execution_count": 148,
      "outputs": []
    },
    {
      "cell_type": "code",
      "source": [
        "classes.size"
      ],
      "metadata": {
        "id": "nh1tMfC_mhSU",
        "colab": {
          "base_uri": "https://localhost:8080/"
        },
        "outputId": "3065eb3a-98ca-4ea9-8df6-593b42c8fb5f"
      },
      "execution_count": 149,
      "outputs": [
        {
          "output_type": "execute_result",
          "data": {
            "text/plain": [
              "569"
            ]
          },
          "metadata": {},
          "execution_count": 149
        }
      ]
    },
    {
      "cell_type": "code",
      "source": [
        "dados"
      ],
      "metadata": {
        "id": "YJxB1Ks4mkN1",
        "colab": {
          "base_uri": "https://localhost:8080/"
        },
        "outputId": "7cef1c27-fbfe-42bd-9ab3-79446bce4038"
      },
      "execution_count": 150,
      "outputs": [
        {
          "output_type": "execute_result",
          "data": {
            "text/plain": [
              "array([[1.799e+01, 1.038e+01, 1.228e+02, ..., 2.654e-01, 4.601e-01,\n",
              "        1.189e-01],\n",
              "       [2.057e+01, 1.777e+01, 1.329e+02, ..., 1.860e-01, 2.750e-01,\n",
              "        8.902e-02],\n",
              "       [1.969e+01, 2.125e+01, 1.300e+02, ..., 2.430e-01, 3.613e-01,\n",
              "        8.758e-02],\n",
              "       ...,\n",
              "       [1.660e+01, 2.808e+01, 1.083e+02, ..., 1.418e-01, 2.218e-01,\n",
              "        7.820e-02],\n",
              "       [2.060e+01, 2.933e+01, 1.401e+02, ..., 2.650e-01, 4.087e-01,\n",
              "        1.240e-01],\n",
              "       [7.760e+00, 2.454e+01, 4.792e+01, ..., 0.000e+00, 2.871e-01,\n",
              "        7.039e-02]])"
            ]
          },
          "metadata": {},
          "execution_count": 150
        }
      ]
    },
    {
      "cell_type": "code",
      "source": [
        "for coluna in dados.T:\n",
        "  # print(coluna.max()) # Valores máximos de cada coluna\n",
        "  if coluna.max() < 1:\n",
        "    coluna = coluna / 1\n",
        "  elif coluna.max() < 10:\n",
        "    coluna /= 10\n",
        "  elif coluna.max() < 100:\n",
        "    coluna /= 100\n",
        "  elif coluna.max() < 1000:\n",
        "    coluna /= 1000\n",
        "  elif coluna.max() < 10000:\n",
        "    coluna /= 10000\n",
        "  else:\n",
        "    print('Erro')"
      ],
      "metadata": {
        "id": "9EFFSDz-mnkM"
      },
      "execution_count": 151,
      "outputs": []
    },
    {
      "cell_type": "code",
      "source": [
        "entrada = torch.FloatTensor(dados)\n",
        "saida = torch.FloatTensor(classes)\n",
        "print(saida)"
      ],
      "metadata": {
        "id": "fEz8qmy8mp70",
        "colab": {
          "base_uri": "https://localhost:8080/"
        },
        "outputId": "9675bb80-2204-427d-ff47-94c0bcdf4d95"
      },
      "execution_count": 152,
      "outputs": [
        {
          "output_type": "stream",
          "name": "stdout",
          "text": [
            "tensor([0., 0., 0., 0., 0., 0., 0., 0., 0., 0., 0., 0., 0., 0., 0., 0., 0., 0.,\n",
            "        0., 1., 1., 1., 0., 0., 0., 0., 0., 0., 0., 0., 0., 0., 0., 0., 0., 0.,\n",
            "        0., 1., 0., 0., 0., 0., 0., 0., 0., 0., 1., 0., 1., 1., 1., 1., 1., 0.,\n",
            "        0., 1., 0., 0., 1., 1., 1., 1., 0., 1., 0., 0., 1., 1., 1., 1., 0., 1.,\n",
            "        0., 0., 1., 0., 1., 0., 0., 1., 1., 1., 0., 0., 1., 0., 0., 0., 1., 1.,\n",
            "        1., 0., 1., 1., 0., 0., 1., 1., 1., 0., 0., 1., 1., 1., 1., 0., 1., 1.,\n",
            "        0., 1., 1., 1., 1., 1., 1., 1., 1., 0., 0., 0., 1., 0., 0., 1., 1., 1.,\n",
            "        0., 0., 1., 0., 1., 0., 0., 1., 0., 0., 1., 1., 0., 1., 1., 0., 1., 1.,\n",
            "        1., 1., 0., 1., 1., 1., 1., 1., 1., 1., 1., 1., 0., 1., 1., 1., 1., 0.,\n",
            "        0., 1., 0., 1., 1., 0., 0., 1., 1., 0., 0., 1., 1., 1., 1., 0., 1., 1.,\n",
            "        0., 0., 0., 1., 0., 1., 0., 1., 1., 1., 0., 1., 1., 0., 0., 1., 0., 0.,\n",
            "        0., 0., 1., 0., 0., 0., 1., 0., 1., 0., 1., 1., 0., 1., 0., 0., 0., 0.,\n",
            "        1., 1., 0., 0., 1., 1., 1., 0., 1., 1., 1., 1., 1., 0., 0., 1., 1., 0.,\n",
            "        1., 1., 0., 0., 1., 0., 1., 1., 1., 1., 0., 1., 1., 1., 1., 1., 0., 1.,\n",
            "        0., 0., 0., 0., 0., 0., 0., 0., 0., 0., 0., 0., 0., 0., 1., 1., 1., 1.,\n",
            "        1., 1., 0., 1., 0., 1., 1., 0., 1., 1., 0., 1., 0., 0., 1., 1., 1., 1.,\n",
            "        1., 1., 1., 1., 1., 1., 1., 1., 1., 0., 1., 1., 0., 1., 0., 1., 1., 1.,\n",
            "        1., 1., 1., 1., 1., 1., 1., 1., 1., 1., 1., 0., 1., 1., 1., 0., 1., 0.,\n",
            "        1., 1., 1., 1., 0., 0., 0., 1., 1., 1., 1., 0., 1., 0., 1., 0., 1., 1.,\n",
            "        1., 0., 1., 1., 1., 1., 1., 1., 1., 0., 0., 0., 1., 1., 1., 1., 1., 1.,\n",
            "        1., 1., 1., 1., 1., 0., 0., 1., 0., 0., 0., 1., 0., 0., 1., 1., 1., 1.,\n",
            "        1., 0., 1., 1., 1., 1., 1., 0., 1., 1., 1., 0., 1., 1., 0., 0., 1., 1.,\n",
            "        1., 1., 1., 1., 0., 1., 1., 1., 1., 1., 1., 1., 0., 1., 1., 1., 1., 1.,\n",
            "        0., 1., 1., 0., 1., 1., 1., 1., 1., 1., 1., 1., 1., 1., 1., 1., 0., 1.,\n",
            "        0., 0., 1., 0., 1., 1., 1., 1., 1., 0., 1., 1., 0., 1., 0., 1., 1., 0.,\n",
            "        1., 0., 1., 1., 1., 1., 1., 1., 1., 1., 0., 0., 1., 1., 1., 1., 1., 1.,\n",
            "        0., 1., 1., 1., 1., 1., 1., 1., 1., 1., 1., 0., 1., 1., 1., 1., 1., 1.,\n",
            "        1., 0., 1., 0., 1., 1., 0., 1., 1., 1., 1., 1., 0., 0., 1., 0., 1., 0.,\n",
            "        1., 1., 1., 1., 1., 0., 1., 1., 0., 1., 0., 1., 0., 0., 1., 1., 1., 0.,\n",
            "        1., 1., 1., 1., 1., 1., 1., 1., 1., 1., 1., 0., 1., 0., 0., 1., 1., 1.,\n",
            "        1., 1., 1., 1., 1., 1., 1., 1., 1., 1., 1., 1., 1., 1., 1., 1., 1., 1.,\n",
            "        1., 1., 1., 1., 0., 0., 0., 0., 0., 0., 1.])\n"
          ]
        }
      ]
    },
    {
      "cell_type": "code",
      "source": [
        "from sklearn.utils import shuffle\n",
        "print(entrada, saida)\n",
        "entrada, saida = shuffle(entrada, saida)\n",
        "print(entrada, saida)"
      ],
      "metadata": {
        "id": "lSaEQEazms6s",
        "colab": {
          "base_uri": "https://localhost:8080/"
        },
        "outputId": "ab15995e-fb72-449c-bfbe-4de9b74deb97"
      },
      "execution_count": 153,
      "outputs": [
        {
          "output_type": "stream",
          "name": "stdout",
          "text": [
            "tensor([[0.1799, 0.1038, 0.1228,  ..., 0.2654, 0.4601, 0.1189],\n",
            "        [0.2057, 0.1777, 0.1329,  ..., 0.1860, 0.2750, 0.0890],\n",
            "        [0.1969, 0.2125, 0.1300,  ..., 0.2430, 0.3613, 0.0876],\n",
            "        ...,\n",
            "        [0.1660, 0.2808, 0.1083,  ..., 0.1418, 0.2218, 0.0782],\n",
            "        [0.2060, 0.2933, 0.1401,  ..., 0.2650, 0.4087, 0.1240],\n",
            "        [0.0776, 0.2454, 0.0479,  ..., 0.0000, 0.2871, 0.0704]]) tensor([0., 0., 0., 0., 0., 0., 0., 0., 0., 0., 0., 0., 0., 0., 0., 0., 0., 0.,\n",
            "        0., 1., 1., 1., 0., 0., 0., 0., 0., 0., 0., 0., 0., 0., 0., 0., 0., 0.,\n",
            "        0., 1., 0., 0., 0., 0., 0., 0., 0., 0., 1., 0., 1., 1., 1., 1., 1., 0.,\n",
            "        0., 1., 0., 0., 1., 1., 1., 1., 0., 1., 0., 0., 1., 1., 1., 1., 0., 1.,\n",
            "        0., 0., 1., 0., 1., 0., 0., 1., 1., 1., 0., 0., 1., 0., 0., 0., 1., 1.,\n",
            "        1., 0., 1., 1., 0., 0., 1., 1., 1., 0., 0., 1., 1., 1., 1., 0., 1., 1.,\n",
            "        0., 1., 1., 1., 1., 1., 1., 1., 1., 0., 0., 0., 1., 0., 0., 1., 1., 1.,\n",
            "        0., 0., 1., 0., 1., 0., 0., 1., 0., 0., 1., 1., 0., 1., 1., 0., 1., 1.,\n",
            "        1., 1., 0., 1., 1., 1., 1., 1., 1., 1., 1., 1., 0., 1., 1., 1., 1., 0.,\n",
            "        0., 1., 0., 1., 1., 0., 0., 1., 1., 0., 0., 1., 1., 1., 1., 0., 1., 1.,\n",
            "        0., 0., 0., 1., 0., 1., 0., 1., 1., 1., 0., 1., 1., 0., 0., 1., 0., 0.,\n",
            "        0., 0., 1., 0., 0., 0., 1., 0., 1., 0., 1., 1., 0., 1., 0., 0., 0., 0.,\n",
            "        1., 1., 0., 0., 1., 1., 1., 0., 1., 1., 1., 1., 1., 0., 0., 1., 1., 0.,\n",
            "        1., 1., 0., 0., 1., 0., 1., 1., 1., 1., 0., 1., 1., 1., 1., 1., 0., 1.,\n",
            "        0., 0., 0., 0., 0., 0., 0., 0., 0., 0., 0., 0., 0., 0., 1., 1., 1., 1.,\n",
            "        1., 1., 0., 1., 0., 1., 1., 0., 1., 1., 0., 1., 0., 0., 1., 1., 1., 1.,\n",
            "        1., 1., 1., 1., 1., 1., 1., 1., 1., 0., 1., 1., 0., 1., 0., 1., 1., 1.,\n",
            "        1., 1., 1., 1., 1., 1., 1., 1., 1., 1., 1., 0., 1., 1., 1., 0., 1., 0.,\n",
            "        1., 1., 1., 1., 0., 0., 0., 1., 1., 1., 1., 0., 1., 0., 1., 0., 1., 1.,\n",
            "        1., 0., 1., 1., 1., 1., 1., 1., 1., 0., 0., 0., 1., 1., 1., 1., 1., 1.,\n",
            "        1., 1., 1., 1., 1., 0., 0., 1., 0., 0., 0., 1., 0., 0., 1., 1., 1., 1.,\n",
            "        1., 0., 1., 1., 1., 1., 1., 0., 1., 1., 1., 0., 1., 1., 0., 0., 1., 1.,\n",
            "        1., 1., 1., 1., 0., 1., 1., 1., 1., 1., 1., 1., 0., 1., 1., 1., 1., 1.,\n",
            "        0., 1., 1., 0., 1., 1., 1., 1., 1., 1., 1., 1., 1., 1., 1., 1., 0., 1.,\n",
            "        0., 0., 1., 0., 1., 1., 1., 1., 1., 0., 1., 1., 0., 1., 0., 1., 1., 0.,\n",
            "        1., 0., 1., 1., 1., 1., 1., 1., 1., 1., 0., 0., 1., 1., 1., 1., 1., 1.,\n",
            "        0., 1., 1., 1., 1., 1., 1., 1., 1., 1., 1., 0., 1., 1., 1., 1., 1., 1.,\n",
            "        1., 0., 1., 0., 1., 1., 0., 1., 1., 1., 1., 1., 0., 0., 1., 0., 1., 0.,\n",
            "        1., 1., 1., 1., 1., 0., 1., 1., 0., 1., 0., 1., 0., 0., 1., 1., 1., 0.,\n",
            "        1., 1., 1., 1., 1., 1., 1., 1., 1., 1., 1., 0., 1., 0., 0., 1., 1., 1.,\n",
            "        1., 1., 1., 1., 1., 1., 1., 1., 1., 1., 1., 1., 1., 1., 1., 1., 1., 1.,\n",
            "        1., 1., 1., 1., 0., 0., 0., 0., 0., 0., 1.])\n",
            "tensor([[0.1720, 0.2452, 0.1142,  ..., 0.1899, 0.3313, 0.1339],\n",
            "        [0.1305, 0.1931, 0.0826,  ..., 0.0111, 0.2439, 0.0629],\n",
            "        [0.1314, 0.2074, 0.0860,  ..., 0.1181, 0.2563, 0.0817],\n",
            "        ...,\n",
            "        [0.1425, 0.2172, 0.0936,  ..., 0.1447, 0.3591, 0.1014],\n",
            "        [0.1152, 0.1493, 0.0739,  ..., 0.0961, 0.2664, 0.0781],\n",
            "        [0.1469, 0.1398, 0.0982,  ..., 0.1108, 0.2827, 0.0921]]) tensor([0., 1., 1., 1., 1., 1., 0., 1., 1., 1., 1., 1., 0., 0., 1., 1., 1., 0.,\n",
            "        1., 1., 1., 0., 0., 0., 1., 0., 1., 1., 1., 1., 1., 1., 0., 1., 1., 0.,\n",
            "        1., 0., 0., 1., 0., 0., 0., 1., 1., 1., 1., 1., 1., 1., 0., 1., 0., 1.,\n",
            "        0., 1., 0., 0., 0., 0., 1., 0., 1., 1., 1., 1., 1., 1., 0., 1., 1., 1.,\n",
            "        0., 1., 1., 1., 1., 1., 0., 0., 0., 0., 0., 1., 1., 1., 0., 0., 0., 0.,\n",
            "        1., 1., 1., 1., 1., 1., 1., 1., 1., 1., 0., 0., 1., 1., 0., 0., 0., 0.,\n",
            "        1., 0., 1., 1., 1., 0., 0., 0., 0., 0., 0., 0., 1., 0., 1., 1., 1., 1.,\n",
            "        0., 1., 1., 0., 0., 0., 0., 0., 1., 1., 0., 1., 0., 0., 1., 1., 1., 1.,\n",
            "        0., 1., 1., 1., 1., 0., 0., 1., 1., 1., 1., 0., 0., 1., 0., 1., 1., 1.,\n",
            "        0., 1., 1., 0., 1., 1., 0., 1., 1., 0., 0., 1., 0., 1., 1., 1., 1., 1.,\n",
            "        0., 0., 0., 1., 1., 1., 0., 1., 1., 1., 0., 0., 1., 1., 0., 1., 0., 0.,\n",
            "        1., 0., 1., 1., 1., 1., 0., 0., 1., 1., 0., 0., 0., 1., 0., 1., 1., 0.,\n",
            "        0., 0., 1., 1., 1., 0., 1., 1., 1., 0., 1., 1., 0., 0., 1., 1., 1., 1.,\n",
            "        1., 1., 1., 1., 1., 1., 0., 1., 1., 1., 1., 1., 1., 1., 1., 1., 0., 1.,\n",
            "        1., 1., 1., 1., 1., 0., 1., 1., 1., 1., 0., 1., 1., 1., 1., 1., 1., 1.,\n",
            "        0., 1., 1., 0., 0., 0., 0., 1., 1., 1., 1., 1., 1., 1., 0., 1., 1., 0.,\n",
            "        0., 1., 0., 1., 0., 1., 1., 1., 1., 1., 1., 0., 0., 1., 0., 0., 0., 1.,\n",
            "        1., 0., 1., 1., 0., 1., 1., 1., 1., 0., 1., 0., 0., 1., 1., 1., 1., 1.,\n",
            "        1., 0., 0., 1., 0., 0., 0., 0., 1., 1., 1., 1., 1., 1., 1., 1., 0., 0.,\n",
            "        1., 1., 1., 0., 1., 1., 0., 1., 0., 1., 0., 1., 1., 1., 1., 0., 0., 0.,\n",
            "        1., 1., 1., 1., 0., 0., 1., 0., 0., 1., 1., 0., 0., 0., 1., 1., 0., 1.,\n",
            "        1., 1., 0., 0., 0., 0., 1., 0., 1., 1., 1., 1., 0., 1., 1., 0., 0., 0.,\n",
            "        1., 1., 1., 1., 1., 0., 0., 1., 1., 0., 1., 1., 1., 0., 1., 0., 1., 0.,\n",
            "        1., 1., 0., 0., 0., 1., 1., 1., 1., 1., 0., 0., 0., 0., 1., 0., 0., 0.,\n",
            "        0., 1., 1., 0., 1., 0., 1., 0., 0., 0., 0., 0., 1., 1., 1., 1., 1., 1.,\n",
            "        1., 1., 1., 1., 0., 1., 1., 1., 1., 1., 1., 1., 1., 0., 0., 1., 0., 1.,\n",
            "        1., 0., 1., 1., 1., 0., 1., 1., 1., 1., 1., 1., 1., 1., 1., 1., 0., 1.,\n",
            "        0., 1., 0., 1., 0., 0., 1., 0., 1., 0., 1., 1., 1., 0., 1., 1., 1., 1.,\n",
            "        0., 1., 1., 1., 1., 1., 1., 0., 0., 1., 1., 1., 1., 0., 1., 0., 1., 1.,\n",
            "        1., 1., 0., 0., 0., 1., 0., 0., 0., 1., 1., 0., 1., 0., 1., 0., 1., 1.,\n",
            "        1., 1., 1., 0., 1., 1., 0., 1., 1., 1., 1., 0., 0., 0., 0., 1., 1., 1.,\n",
            "        0., 1., 0., 0., 1., 1., 1., 1., 0., 1., 1.])\n"
          ]
        }
      ]
    },
    {
      "cell_type": "code",
      "source": [
        "entrada_treinamento = entrada[0:525, :]\n",
        "saida_treinamento = saida[0:525]\n",
        "entrada_testes = entrada[525:569, :]\n",
        "saida_testes = saida[525:569]\n",
        "print(entrada_testes)\n",
        "print(saida_testes)"
      ],
      "metadata": {
        "id": "mjK4_X0LmwtM",
        "colab": {
          "base_uri": "https://localhost:8080/"
        },
        "outputId": "103c9443-f631-488b-aa4a-a736b33af30b"
      },
      "execution_count": 154,
      "outputs": [
        {
          "output_type": "stream",
          "name": "stdout",
          "text": [
            "tensor([[0.2329, 0.2667, 0.1589,  ..., 0.2733, 0.3198, 0.0876],\n",
            "        [0.2034, 0.2151, 0.1359,  ..., 0.2685, 0.5558, 0.1024],\n",
            "        [0.1296, 0.1829, 0.0842,  ..., 0.0661, 0.3207, 0.0725],\n",
            "        ...,\n",
            "        [0.1425, 0.2172, 0.0936,  ..., 0.1447, 0.3591, 0.1014],\n",
            "        [0.1152, 0.1493, 0.0739,  ..., 0.0961, 0.2664, 0.0781],\n",
            "        [0.1469, 0.1398, 0.0982,  ..., 0.1108, 0.2827, 0.0921]])\n",
            "tensor([0., 0., 1., 0., 0., 0., 1., 1., 0., 1., 0., 1., 0., 1., 1., 1., 1., 1.,\n",
            "        0., 1., 1., 0., 1., 1., 1., 1., 0., 0., 0., 0., 1., 1., 1., 0., 1., 0.,\n",
            "        0., 1., 1., 1., 1., 0., 1., 1.])\n"
          ]
        }
      ]
    },
    {
      "cell_type": "code",
      "source": [
        "# Montar o modelo para o treinamento\n",
        "print(entrada_treinamento.size())\n",
        "input_size = entrada_treinamento.size()[1]\n",
        "hidden_size = 25\n",
        "modelo = Net(input_size, hidden_size)\n",
        "print(modelo)\n",
        "\n",
        "# Configurações do modelo\n",
        "criterion = torch.nn.BCELoss() # Binary Cross Entropy\n",
        "criterion = torch.nn.MSELoss() # Mean Square Error\n",
        "optimizer = torch.optim.SGD(modelo.parameters(), lr = 1, momentum = 0.3)"
      ],
      "metadata": {
        "id": "GdpCmtg7m3-r",
        "colab": {
          "base_uri": "https://localhost:8080/"
        },
        "outputId": "36c57eae-1a9f-4b25-8f9d-6341e6ee89f7"
      },
      "execution_count": 155,
      "outputs": [
        {
          "output_type": "stream",
          "name": "stdout",
          "text": [
            "torch.Size([525, 30])\n",
            "Net(\n",
            "  (fc1): Linear(in_features=30, out_features=25, bias=True)\n",
            "  (relu): ReLU()\n",
            "  (fc2): Linear(in_features=25, out_features=1, bias=True)\n",
            "  (sigmoid): Sigmoid()\n",
            ")\n"
          ]
        }
      ]
    },
    {
      "cell_type": "code",
      "source": [
        "epochs = 30000 # Quantidade de épocas de treinamento\n",
        "\n",
        "errors = [] # Criando um array vazio para guardar os erros de cada epoca\n",
        "\n",
        "for epoch in range(epochs):\n",
        "  optimizer.zero_grad()\n",
        "  # Forward pass\n",
        "  y_pred = modelo(entrada_treinamento)\n",
        "  #Compute Loss\n",
        "  loss = criterion(y_pred.squeeze(), saida_treinamento)\n",
        "  errors.append(loss.item())\n",
        "  if epoch % 10000 == 0:\n",
        "    print('Epoch {}: train loss: {}'.format(epoch, loss.item()))\n",
        "  #Backward pass\n",
        "  loss.backward()\n",
        "  optimizer.step()"
      ],
      "metadata": {
        "colab": {
          "base_uri": "https://localhost:8080/"
        },
        "id": "d-x_D84_m6Gk",
        "outputId": "d59c294a-098a-48fc-ba10-034dcf8faff8"
      },
      "execution_count": 156,
      "outputs": [
        {
          "output_type": "stream",
          "name": "stdout",
          "text": [
            "Epoch 0: train loss: 0.26125675439834595\n",
            "Epoch 10000: train loss: 0.011978902854025364\n",
            "Epoch 20000: train loss: 0.010386699810624123\n"
          ]
        }
      ]
    },
    {
      "cell_type": "code",
      "source": [
        "y_pred = modelo(entrada_testes)"
      ],
      "metadata": {
        "id": "5PIS6rnXnP_6"
      },
      "execution_count": 157,
      "outputs": []
    },
    {
      "cell_type": "code",
      "source": [
        "import matplotlib.pyplot as plt\n",
        "import numpy as np\n",
        "def plotcharts(errors):\n",
        "    errors = np.array(errors)\n",
        "    plt.figure(figsize=(12, 5))\n",
        "    graf02 = plt.subplot(1, 2, 1) # nrows, ncols, index\n",
        "    graf02.set_title('Errors')\n",
        "    plt.plot(errors, '-')\n",
        "    plt.xlabel('Epochs')\n",
        "    graf03 = plt.subplot(1, 2, 2)\n",
        "    graf03.set_title('Tests')\n",
        "    a = plt.plot(saida_testes.numpy(), 'yo', label='Real')\n",
        "    plt.setp(a, markersize=10)\n",
        "    a = plt.plot(y_pred.detach().numpy(), 'b+', label='Predicted')\n",
        "    plt.setp(a, markersize=10)\n",
        "    plt.legend(loc=7)\n",
        "    plt.show()\n",
        "plotcharts(errors)"
      ],
      "metadata": {
        "colab": {
          "base_uri": "https://localhost:8080/",
          "height": 487
        },
        "id": "UBg2CuWAnUXK",
        "outputId": "0fc2d08f-f580-4205-9122-f3b0bb0ce48d"
      },
      "execution_count": 158,
      "outputs": [
        {
          "output_type": "display_data",
          "data": {
            "text/plain": [
              "<Figure size 1200x500 with 2 Axes>"
            ],
            "image/png": "[encoded data removed]"
          },
          "metadata": {}
        }
      ]
    }
  ]
}
