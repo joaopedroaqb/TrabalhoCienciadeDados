{
  "nbformat": 4,
  "nbformat_minor": 0,
  "metadata": {
    "colab": {
      "provenance": []
    },
    "kernelspec": {
      "name": "python3",
      "display_name": "Python 3"
    },
    "language_info": {
      "name": "python"
    }
  },
  "cells": [
    {
      "cell_type": "code",
      "execution_count": 159,
      "metadata": {
        "id": "xH6c6CqqTkp1"
      },
      "outputs": [],
      "source": [
        "import pandas as pd\n",
        "from sklearn.model_selection import train_test_split\n",
        "import numpy as np\n",
        "import seaborn as sns\n",
        "from sklearn.metrics import confusion_matrix, accuracy_score"
      ]
    },
    {
      "cell_type": "code",
      "source": [
        "import torch\n",
        "torch.__version__"
      ],
      "metadata": {
        "colab": {
          "base_uri": "https://localhost:8080/",
          "height": 36
        },
        "id": "oaGTaQPFUzXu",
        "outputId": "aff6ec8d-39cd-4d75-f157-b0a8355ae20f"
      },
      "execution_count": 160,
      "outputs": [
        {
          "output_type": "execute_result",
          "data": {
            "text/plain": [
              "'2.0.1+cu118'"
            ],
            "application/vnd.google.colaboratory.intrinsic+json": {
              "type": "string"
            }
          },
          "metadata": {},
          "execution_count": 160
        }
      ]
    },
    {
      "cell_type": "code",
      "source": [
        "import torch.nn as nn"
      ],
      "metadata": {
        "id": "F891kVl4VHw3"
      },
      "execution_count": 161,
      "outputs": []
    },
    {
      "cell_type": "code",
      "source": [
        "## base de dados\n",
        "\n",
        "np.random.seed(123)\n",
        "torch.manual_seed(123)"
      ],
      "metadata": {
        "colab": {
          "base_uri": "https://localhost:8080/"
        },
        "id": "BWCLrjo-Vis_",
        "outputId": "52aafd8b-dde7-435a-cf74-5e1174ad9422"
      },
      "execution_count": 162,
      "outputs": [
        {
          "output_type": "execute_result",
          "data": {
            "text/plain": [
              "<torch._C.Generator at 0x7fd6773ed210>"
            ]
          },
          "metadata": {},
          "execution_count": 162
        }
      ]
    },
    {
      "cell_type": "code",
      "source": [
        "previsores = pd.read_csv('/content/entradas_breast.csv')\n",
        "classe = pd.read_csv('/content/saidas_breast.csv')"
      ],
      "metadata": {
        "id": "-BUMq_3XXpwk"
      },
      "execution_count": 163,
      "outputs": []
    },
    {
      "cell_type": "code",
      "source": [
        "previsores.shape"
      ],
      "metadata": {
        "colab": {
          "base_uri": "https://localhost:8080/"
        },
        "id": "o4xpW5bgX19p",
        "outputId": "6dc08f19-b4c7-4a9a-b231-fb890591f3d0"
      },
      "execution_count": 164,
      "outputs": [
        {
          "output_type": "execute_result",
          "data": {
            "text/plain": [
              "(569, 30)"
            ]
          },
          "metadata": {},
          "execution_count": 164
        }
      ]
    },
    {
      "cell_type": "code",
      "source": [
        "previsores.head()"
      ],
      "metadata": {
        "colab": {
          "base_uri": "https://localhost:8080/",
          "height": 299
        },
        "id": "T-WSEAGQX65N",
        "outputId": "a59544c4-65e8-4a22-dd1b-d554af1ec3b7"
      },
      "execution_count": 165,
      "outputs": [
        {
          "output_type": "execute_result",
          "data": {
            "text/plain": [
              "    radius_mean   texture_mean   perimeter_mean   area_mean   smoothness_mean  \\\n",
              "0         17.99          10.38           122.80      1001.0           0.11840   \n",
              "1         20.57          17.77           132.90      1326.0           0.08474   \n",
              "2         19.69          21.25           130.00      1203.0           0.10960   \n",
              "3         11.42          20.38            77.58       386.1           0.14250   \n",
              "4         20.29          14.34           135.10      1297.0           0.10030   \n",
              "\n",
              "    compactness_mean   concavity_mean  concave_points_mean   symmetry_mean  \\\n",
              "0            0.27760           0.3001              0.14710          0.2419   \n",
              "1            0.07864           0.0869              0.07017          0.1812   \n",
              "2            0.15990           0.1974              0.12790          0.2069   \n",
              "3            0.28390           0.2414              0.10520          0.2597   \n",
              "4            0.13280         198.0000              0.10430          0.1809   \n",
              "\n",
              "    fractal_dimension_mean  ...   radius_worst   texture_worst  \\\n",
              "0                  0.07871  ...          25.38           17.33   \n",
              "1                  0.05667  ...          24.99           23.41   \n",
              "2                  0.05999  ...          23.57           25.53   \n",
              "3                  0.09744  ...          14.91           26.50   \n",
              "4                  0.05883  ...          22.54           16.67   \n",
              "\n",
              "    perimeter_worst   area_worst   smoothness_worst   compactness_worst  \\\n",
              "0            184.60       2019.0             0.1622              0.6656   \n",
              "1            158.80       1956.0             0.1238              0.1866   \n",
              "2            152.50       1709.0             0.1444              0.4245   \n",
              "3             98.87        567.7             0.2098              0.8663   \n",
              "4            152.20       1575.0             0.1374            205.0000   \n",
              "\n",
              "    concavity_worst   concave_points_worst   symmetry_worst  \\\n",
              "0            0.7119                 0.2654           0.4601   \n",
              "1            0.2416               186.0000         275.0000   \n",
              "2            0.4504               243.0000           0.3613   \n",
              "3            0.6869                 0.2575           0.6638   \n",
              "4            0.4000                 0.1625           0.2364   \n",
              "\n",
              "    fractal_dimension_worst  \n",
              "0                   0.11890  \n",
              "1                   0.08902  \n",
              "2                   0.08758  \n",
              "3                 173.00000  \n",
              "4                   0.07678  \n",
              "\n",
              "[5 rows x 30 columns]"
            ],
            "text/html": [
              "\n",
              "  <div id=\"df-a66519ae-5efe-4bd7-8e5f-8645b0caa464\">\n",
              "    <div class=\"colab-df-container\">\n",
              "      <div>\n",
              "<style scoped>\n",
              "    .dataframe tbody tr th:only-of-type {\n",
              "        vertical-align: middle;\n",
              "    }\n",
              "\n",
              "    .dataframe tbody tr th {\n",
              "        vertical-align: top;\n",
              "    }\n",
              "\n",
              "    .dataframe thead th {\n",
              "        text-align: right;\n",
              "    }\n",
              "</style>\n",
              "<table border=\"1\" class=\"dataframe\">\n",
              "  <thead>\n",
              "    <tr style=\"text-align: right;\">\n",
              "      <th></th>\n",
              "      <th>radius_mean</th>\n",
              "      <th>texture_mean</th>\n",
              "      <th>perimeter_mean</th>\n",
              "      <th>area_mean</th>\n",
              "      <th>smoothness_mean</th>\n",
              "      <th>compactness_mean</th>\n",
              "      <th>concavity_mean</th>\n",
              "      <th>concave_points_mean</th>\n",
              "      <th>symmetry_mean</th>\n",
              "      <th>fractal_dimension_mean</th>\n",
              "      <th>...</th>\n",
              "      <th>radius_worst</th>\n",
              "      <th>texture_worst</th>\n",
              "      <th>perimeter_worst</th>\n",
              "      <th>area_worst</th>\n",
              "      <th>smoothness_worst</th>\n",
              "      <th>compactness_worst</th>\n",
              "      <th>concavity_worst</th>\n",
              "      <th>concave_points_worst</th>\n",
              "      <th>symmetry_worst</th>\n",
              "      <th>fractal_dimension_worst</th>\n",
              "    </tr>\n",
              "  </thead>\n",
              "  <tbody>\n",
              "    <tr>\n",
              "      <th>0</th>\n",
              "      <td>17.99</td>\n",
              "      <td>10.38</td>\n",
              "      <td>122.80</td>\n",
              "      <td>1001.0</td>\n",
              "      <td>0.11840</td>\n",
              "      <td>0.27760</td>\n",
              "      <td>0.3001</td>\n",
              "      <td>0.14710</td>\n",
              "      <td>0.2419</td>\n",
              "      <td>0.07871</td>\n",
              "      <td>...</td>\n",
              "      <td>25.38</td>\n",
              "      <td>17.33</td>\n",
              "      <td>184.60</td>\n",
              "      <td>2019.0</td>\n",
              "      <td>0.1622</td>\n",
              "      <td>0.6656</td>\n",
              "      <td>0.7119</td>\n",
              "      <td>0.2654</td>\n",
              "      <td>0.4601</td>\n",
              "      <td>0.11890</td>\n",
              "    </tr>\n",
              "    <tr>\n",
              "      <th>1</th>\n",
              "      <td>20.57</td>\n",
              "      <td>17.77</td>\n",
              "      <td>132.90</td>\n",
              "      <td>1326.0</td>\n",
              "      <td>0.08474</td>\n",
              "      <td>0.07864</td>\n",
              "      <td>0.0869</td>\n",
              "      <td>0.07017</td>\n",
              "      <td>0.1812</td>\n",
              "      <td>0.05667</td>\n",
              "      <td>...</td>\n",
              "      <td>24.99</td>\n",
              "      <td>23.41</td>\n",
              "      <td>158.80</td>\n",
              "      <td>1956.0</td>\n",
              "      <td>0.1238</td>\n",
              "      <td>0.1866</td>\n",
              "      <td>0.2416</td>\n",
              "      <td>186.0000</td>\n",
              "      <td>275.0000</td>\n",
              "      <td>0.08902</td>\n",
              "    </tr>\n",
              "    <tr>\n",
              "      <th>2</th>\n",
              "      <td>19.69</td>\n",
              "      <td>21.25</td>\n",
              "      <td>130.00</td>\n",
              "      <td>1203.0</td>\n",
              "      <td>0.10960</td>\n",
              "      <td>0.15990</td>\n",
              "      <td>0.1974</td>\n",
              "      <td>0.12790</td>\n",
              "      <td>0.2069</td>\n",
              "      <td>0.05999</td>\n",
              "      <td>...</td>\n",
              "      <td>23.57</td>\n",
              "      <td>25.53</td>\n",
              "      <td>152.50</td>\n",
              "      <td>1709.0</td>\n",
              "      <td>0.1444</td>\n",
              "      <td>0.4245</td>\n",
              "      <td>0.4504</td>\n",
              "      <td>243.0000</td>\n",
              "      <td>0.3613</td>\n",
              "      <td>0.08758</td>\n",
              "    </tr>\n",
              "    <tr>\n",
              "      <th>3</th>\n",
              "      <td>11.42</td>\n",
              "      <td>20.38</td>\n",
              "      <td>77.58</td>\n",
              "      <td>386.1</td>\n",
              "      <td>0.14250</td>\n",
              "      <td>0.28390</td>\n",
              "      <td>0.2414</td>\n",
              "      <td>0.10520</td>\n",
              "      <td>0.2597</td>\n",
              "      <td>0.09744</td>\n",
              "      <td>...</td>\n",
              "      <td>14.91</td>\n",
              "      <td>26.50</td>\n",
              "      <td>98.87</td>\n",
              "      <td>567.7</td>\n",
              "      <td>0.2098</td>\n",
              "      <td>0.8663</td>\n",
              "      <td>0.6869</td>\n",
              "      <td>0.2575</td>\n",
              "      <td>0.6638</td>\n",
              "      <td>173.00000</td>\n",
              "    </tr>\n",
              "    <tr>\n",
              "      <th>4</th>\n",
              "      <td>20.29</td>\n",
              "      <td>14.34</td>\n",
              "      <td>135.10</td>\n",
              "      <td>1297.0</td>\n",
              "      <td>0.10030</td>\n",
              "      <td>0.13280</td>\n",
              "      <td>198.0000</td>\n",
              "      <td>0.10430</td>\n",
              "      <td>0.1809</td>\n",
              "      <td>0.05883</td>\n",
              "      <td>...</td>\n",
              "      <td>22.54</td>\n",
              "      <td>16.67</td>\n",
              "      <td>152.20</td>\n",
              "      <td>1575.0</td>\n",
              "      <td>0.1374</td>\n",
              "      <td>205.0000</td>\n",
              "      <td>0.4000</td>\n",
              "      <td>0.1625</td>\n",
              "      <td>0.2364</td>\n",
              "      <td>0.07678</td>\n",
              "    </tr>\n",
              "  </tbody>\n",
              "</table>\n",
              "<p>5 rows × 30 columns</p>\n",
              "</div>\n",
              "      <button class=\"colab-df-convert\" onclick=\"convertToInteractive('df-a66519ae-5efe-4bd7-8e5f-8645b0caa464')\"\n",
              "              title=\"Convert this dataframe to an interactive table.\"\n",
              "              style=\"display:none;\">\n",
              "        \n",
              "  <svg xmlns=\"http://www.w3.org/2000/svg\" height=\"24px\"viewBox=\"0 0 24 24\"\n",
              "       width=\"24px\">\n",
              "    <path d=\"M0 0h24v24H0V0z\" fill=\"none\"/>\n",
              "    <path d=\"M18.56 5.44l.94 2.06.94-2.06 2.06-.94-2.06-.94-.94-2.06-.94 2.06-2.06.94zm-11 1L8.5 8.5l.94-2.06 2.06-.94-2.06-.94L8.5 2.5l-.94 2.06-2.06.94zm10 10l.94 2.06.94-2.06 2.06-.94-2.06-.94-.94-2.06-.94 2.06-2.06.94z\"/><path d=\"M17.41 7.96l-1.37-1.37c-.4-.4-.92-.59-1.43-.59-.52 0-1.04.2-1.43.59L10.3 9.45l-7.72 7.72c-.78.78-.78 2.05 0 2.83L4 21.41c.39.39.9.59 1.41.59.51 0 1.02-.2 1.41-.59l7.78-7.78 2.81-2.81c.8-.78.8-2.07 0-2.86zM5.41 20L4 18.59l7.72-7.72 1.47 1.35L5.41 20z\"/>\n",
              "  </svg>\n",
              "      </button>\n",
              "      \n",
              "  <style>\n",
              "    .colab-df-container {\n",
              "      display:flex;\n",
              "      flex-wrap:wrap;\n",
              "      gap: 12px;\n",
              "    }\n",
              "\n",
              "    .colab-df-convert {\n",
              "      background-color: #E8F0FE;\n",
              "      border: none;\n",
              "      border-radius: 50%;\n",
              "      cursor: pointer;\n",
              "      display: none;\n",
              "      fill: #1967D2;\n",
              "      height: 32px;\n",
              "      padding: 0 0 0 0;\n",
              "      width: 32px;\n",
              "    }\n",
              "\n",
              "    .colab-df-convert:hover {\n",
              "      background-color: #E2EBFA;\n",
              "      box-shadow: 0px 1px 2px rgba(60, 64, 67, 0.3), 0px 1px 3px 1px rgba(60, 64, 67, 0.15);\n",
              "      fill: #174EA6;\n",
              "    }\n",
              "\n",
              "    [theme=dark] .colab-df-convert {\n",
              "      background-color: #3B4455;\n",
              "      fill: #D2E3FC;\n",
              "    }\n",
              "\n",
              "    [theme=dark] .colab-df-convert:hover {\n",
              "      background-color: #434B5C;\n",
              "      box-shadow: 0px 1px 3px 1px rgba(0, 0, 0, 0.15);\n",
              "      filter: drop-shadow(0px 1px 2px rgba(0, 0, 0, 0.3));\n",
              "      fill: #FFFFFF;\n",
              "    }\n",
              "  </style>\n",
              "\n",
              "      <script>\n",
              "        const buttonEl =\n",
              "          document.querySelector('#df-a66519ae-5efe-4bd7-8e5f-8645b0caa464 button.colab-df-convert');\n",
              "        buttonEl.style.display =\n",
              "          google.colab.kernel.accessAllowed ? 'block' : 'none';\n",
              "\n",
              "        async function convertToInteractive(key) {\n",
              "          const element = document.querySelector('#df-a66519ae-5efe-4bd7-8e5f-8645b0caa464');\n",
              "          const dataTable =\n",
              "            await google.colab.kernel.invokeFunction('convertToInteractive',\n",
              "                                                     [key], {});\n",
              "          if (!dataTable) return;\n",
              "\n",
              "          const docLinkHtml = 'Like what you see? Visit the ' +\n",
              "            '<a target=\"_blank\" href=https://colab.research.google.com/notebooks/data_table.ipynb>data table notebook</a>'\n",
              "            + ' to learn more about interactive tables.';\n",
              "          element.innerHTML = '';\n",
              "          dataTable['output_type'] = 'display_data';\n",
              "          await google.colab.output.renderOutput(dataTable, element);\n",
              "          const docLink = document.createElement('div');\n",
              "          docLink.innerHTML = docLinkHtml;\n",
              "          element.appendChild(docLink);\n",
              "        }\n",
              "      </script>\n",
              "    </div>\n",
              "  </div>\n",
              "  "
            ]
          },
          "metadata": {},
          "execution_count": 165
        }
      ]
    },
    {
      "cell_type": "code",
      "source": [
        "classe.head()"
      ],
      "metadata": {
        "colab": {
          "base_uri": "https://localhost:8080/",
          "height": 206
        },
        "id": "o_bS4ZHRYCHZ",
        "outputId": "a69e59c8-3870-4949-923f-19320bdba4c7"
      },
      "execution_count": 166,
      "outputs": [
        {
          "output_type": "execute_result",
          "data": {
            "text/plain": [
              "   0\n",
              "0  0\n",
              "1  0\n",
              "2  0\n",
              "3  0\n",
              "4  0"
            ],
            "text/html": [
              "\n",
              "  <div id=\"df-f9d5e9a6-5f0c-48d3-a979-5598d15e92fb\">\n",
              "    <div class=\"colab-df-container\">\n",
              "      <div>\n",
              "<style scoped>\n",
              "    .dataframe tbody tr th:only-of-type {\n",
              "        vertical-align: middle;\n",
              "    }\n",
              "\n",
              "    .dataframe tbody tr th {\n",
              "        vertical-align: top;\n",
              "    }\n",
              "\n",
              "    .dataframe thead th {\n",
              "        text-align: right;\n",
              "    }\n",
              "</style>\n",
              "<table border=\"1\" class=\"dataframe\">\n",
              "  <thead>\n",
              "    <tr style=\"text-align: right;\">\n",
              "      <th></th>\n",
              "      <th>0</th>\n",
              "    </tr>\n",
              "  </thead>\n",
              "  <tbody>\n",
              "    <tr>\n",
              "      <th>0</th>\n",
              "      <td>0</td>\n",
              "    </tr>\n",
              "    <tr>\n",
              "      <th>1</th>\n",
              "      <td>0</td>\n",
              "    </tr>\n",
              "    <tr>\n",
              "      <th>2</th>\n",
              "      <td>0</td>\n",
              "    </tr>\n",
              "    <tr>\n",
              "      <th>3</th>\n",
              "      <td>0</td>\n",
              "    </tr>\n",
              "    <tr>\n",
              "      <th>4</th>\n",
              "      <td>0</td>\n",
              "    </tr>\n",
              "  </tbody>\n",
              "</table>\n",
              "</div>\n",
              "      <button class=\"colab-df-convert\" onclick=\"convertToInteractive('df-f9d5e9a6-5f0c-48d3-a979-5598d15e92fb')\"\n",
              "              title=\"Convert this dataframe to an interactive table.\"\n",
              "              style=\"display:none;\">\n",
              "        \n",
              "  <svg xmlns=\"http://www.w3.org/2000/svg\" height=\"24px\"viewBox=\"0 0 24 24\"\n",
              "       width=\"24px\">\n",
              "    <path d=\"M0 0h24v24H0V0z\" fill=\"none\"/>\n",
              "    <path d=\"M18.56 5.44l.94 2.06.94-2.06 2.06-.94-2.06-.94-.94-2.06-.94 2.06-2.06.94zm-11 1L8.5 8.5l.94-2.06 2.06-.94-2.06-.94L8.5 2.5l-.94 2.06-2.06.94zm10 10l.94 2.06.94-2.06 2.06-.94-2.06-.94-.94-2.06-.94 2.06-2.06.94z\"/><path d=\"M17.41 7.96l-1.37-1.37c-.4-.4-.92-.59-1.43-.59-.52 0-1.04.2-1.43.59L10.3 9.45l-7.72 7.72c-.78.78-.78 2.05 0 2.83L4 21.41c.39.39.9.59 1.41.59.51 0 1.02-.2 1.41-.59l7.78-7.78 2.81-2.81c.8-.78.8-2.07 0-2.86zM5.41 20L4 18.59l7.72-7.72 1.47 1.35L5.41 20z\"/>\n",
              "  </svg>\n",
              "      </button>\n",
              "      \n",
              "  <style>\n",
              "    .colab-df-container {\n",
              "      display:flex;\n",
              "      flex-wrap:wrap;\n",
              "      gap: 12px;\n",
              "    }\n",
              "\n",
              "    .colab-df-convert {\n",
              "      background-color: #E8F0FE;\n",
              "      border: none;\n",
              "      border-radius: 50%;\n",
              "      cursor: pointer;\n",
              "      display: none;\n",
              "      fill: #1967D2;\n",
              "      height: 32px;\n",
              "      padding: 0 0 0 0;\n",
              "      width: 32px;\n",
              "    }\n",
              "\n",
              "    .colab-df-convert:hover {\n",
              "      background-color: #E2EBFA;\n",
              "      box-shadow: 0px 1px 2px rgba(60, 64, 67, 0.3), 0px 1px 3px 1px rgba(60, 64, 67, 0.15);\n",
              "      fill: #174EA6;\n",
              "    }\n",
              "\n",
              "    [theme=dark] .colab-df-convert {\n",
              "      background-color: #3B4455;\n",
              "      fill: #D2E3FC;\n",
              "    }\n",
              "\n",
              "    [theme=dark] .colab-df-convert:hover {\n",
              "      background-color: #434B5C;\n",
              "      box-shadow: 0px 1px 3px 1px rgba(0, 0, 0, 0.15);\n",
              "      filter: drop-shadow(0px 1px 2px rgba(0, 0, 0, 0.3));\n",
              "      fill: #FFFFFF;\n",
              "    }\n",
              "  </style>\n",
              "\n",
              "      <script>\n",
              "        const buttonEl =\n",
              "          document.querySelector('#df-f9d5e9a6-5f0c-48d3-a979-5598d15e92fb button.colab-df-convert');\n",
              "        buttonEl.style.display =\n",
              "          google.colab.kernel.accessAllowed ? 'block' : 'none';\n",
              "\n",
              "        async function convertToInteractive(key) {\n",
              "          const element = document.querySelector('#df-f9d5e9a6-5f0c-48d3-a979-5598d15e92fb');\n",
              "          const dataTable =\n",
              "            await google.colab.kernel.invokeFunction('convertToInteractive',\n",
              "                                                     [key], {});\n",
              "          if (!dataTable) return;\n",
              "\n",
              "          const docLinkHtml = 'Like what you see? Visit the ' +\n",
              "            '<a target=\"_blank\" href=https://colab.research.google.com/notebooks/data_table.ipynb>data table notebook</a>'\n",
              "            + ' to learn more about interactive tables.';\n",
              "          element.innerHTML = '';\n",
              "          dataTable['output_type'] = 'display_data';\n",
              "          await google.colab.output.renderOutput(dataTable, element);\n",
              "          const docLink = document.createElement('div');\n",
              "          docLink.innerHTML = docLinkHtml;\n",
              "          element.appendChild(docLink);\n",
              "        }\n",
              "      </script>\n",
              "    </div>\n",
              "  </div>\n",
              "  "
            ]
          },
          "metadata": {},
          "execution_count": 166
        }
      ]
    },
    {
      "cell_type": "code",
      "source": [
        "np.unique(classe)"
      ],
      "metadata": {
        "colab": {
          "base_uri": "https://localhost:8080/"
        },
        "id": "6rKtHcbTYH76",
        "outputId": "c689eed6-52ba-4be2-fb4e-2d05b7e518c9"
      },
      "execution_count": 167,
      "outputs": [
        {
          "output_type": "execute_result",
          "data": {
            "text/plain": [
              "array([0, 1])"
            ]
          },
          "metadata": {},
          "execution_count": 167
        }
      ]
    },
    {
      "cell_type": "code",
      "source": [
        "previsores_treinamento, previsores_teste, classe_treinamento, classe_teste = train_test_split(previsores,\n",
        "                                                                                              classe,\n",
        "                                                                                              test_size = 0.25)"
      ],
      "metadata": {
        "id": "YfinN2kJYyP8"
      },
      "execution_count": 168,
      "outputs": []
    },
    {
      "cell_type": "code",
      "source": [
        "from sklearn import tree\n",
        "\n",
        "model = tree.DecisionTreeClassifier(criterion = 'gini', random_state = 101)\n",
        "model.fit(previsores_treinamento, classe_treinamento)\n",
        "y_pred = model.predict(previsores_teste)\n",
        "\n",
        "score = accuracy_score(y_pred, classe_teste)\n",
        "print('Acuracia: ',score)"
      ],
      "metadata": {
        "colab": {
          "base_uri": "https://localhost:8080/"
        },
        "id": "475MqRbyhqSC",
        "outputId": "17f68162-97fb-4b16-e1ad-a4b65db566f9"
      },
      "execution_count": 169,
      "outputs": [
        {
          "output_type": "stream",
          "name": "stdout",
          "text": [
            "Acuracia:  0.9440559440559441\n"
          ]
        }
      ]
    },
    {
      "cell_type": "code",
      "source": [
        "from sklearn.linear_model import LogisticRegression\n",
        "\n",
        "model = LogisticRegression(solver ='lbfgs', max_iter=1000)\n",
        "model.fit(previsores_treinamento,classe_treinamento)\n",
        "\n",
        "y_pred = model.predict(previsores_teste)\n",
        "\n",
        "score = accuracy_score(y_pred,classe_teste)\n",
        "print(\"ACurácia: \",score)"
      ],
      "metadata": {
        "colab": {
          "base_uri": "https://localhost:8080/"
        },
        "id": "1pmdyH5EfoDu",
        "outputId": "31baf8a8-fda5-4b7c-e349-b53f06267408"
      },
      "execution_count": 170,
      "outputs": [
        {
          "output_type": "stream",
          "name": "stderr",
          "text": [
            "/usr/local/lib/python3.10/dist-packages/sklearn/utils/validation.py:1143: DataConversionWarning: A column-vector y was passed when a 1d array was expected. Please change the shape of y to (n_samples, ), for example using ravel().\n",
            "  y = column_or_1d(y, warn=True)\n"
          ]
        },
        {
          "output_type": "stream",
          "name": "stdout",
          "text": [
            "ACurácia:  0.965034965034965\n"
          ]
        },
        {
          "output_type": "stream",
          "name": "stderr",
          "text": [
            "/usr/local/lib/python3.10/dist-packages/sklearn/linear_model/_logistic.py:458: ConvergenceWarning: lbfgs failed to converge (status=1):\n",
            "STOP: TOTAL NO. of ITERATIONS REACHED LIMIT.\n",
            "\n",
            "Increase the number of iterations (max_iter) or scale the data as shown in:\n",
            "    https://scikit-learn.org/stable/modules/preprocessing.html\n",
            "Please also refer to the documentation for alternative solver options:\n",
            "    https://scikit-learn.org/stable/modules/linear_model.html#logistic-regression\n",
            "  n_iter_i = _check_optimize_result(\n"
          ]
        }
      ]
    },
    {
      "cell_type": "code",
      "source": [
        "from sklearn.neighbors import KNeighborsClassifier\n",
        "from sklearn.metrics import accuracy_score\n",
        "\n",
        "k=5\n",
        "\n",
        "model = KNeighborsClassifier(n_neighbors=k, metric ='euclidean')\n",
        "\n",
        "model.fit(previsores_treinamento,classe_treinamento)\n",
        "\n",
        "y_pred = model.predict(previsores_teste)\n",
        "\n",
        "score = accuracy_score(y_pred,classe_teste)\n",
        "print(\"Acuracia: \",score)"
      ],
      "metadata": {
        "colab": {
          "base_uri": "https://localhost:8080/"
        },
        "id": "TRz8lHvBdqrk",
        "outputId": "9fc63576-0a78-447a-b01c-94cee796d350"
      },
      "execution_count": 171,
      "outputs": [
        {
          "output_type": "stream",
          "name": "stdout",
          "text": [
            "Acuracia:  0.8881118881118881\n"
          ]
        },
        {
          "output_type": "stream",
          "name": "stderr",
          "text": [
            "/usr/local/lib/python3.10/dist-packages/sklearn/neighbors/_classification.py:215: DataConversionWarning: A column-vector y was passed when a 1d array was expected. Please change the shape of y to (n_samples,), for example using ravel().\n",
            "  return self._fit(X, y)\n"
          ]
        }
      ]
    },
    {
      "cell_type": "code",
      "source": [
        "previsores_treinamento.shape"
      ],
      "metadata": {
        "colab": {
          "base_uri": "https://localhost:8080/"
        },
        "id": "N2vwITBkZCE4",
        "outputId": "b4e36de7-308d-49c9-b2b3-66d18ecdc99a"
      },
      "execution_count": 172,
      "outputs": [
        {
          "output_type": "execute_result",
          "data": {
            "text/plain": [
              "(426, 30)"
            ]
          },
          "metadata": {},
          "execution_count": 172
        }
      ]
    },
    {
      "cell_type": "code",
      "source": [
        "classe_treinamento.shape"
      ],
      "metadata": {
        "colab": {
          "base_uri": "https://localhost:8080/"
        },
        "id": "q0uW-KH0pdod",
        "outputId": "3ac2d00c-0c19-4728-c3e3-3f01c2608a26"
      },
      "execution_count": 173,
      "outputs": [
        {
          "output_type": "execute_result",
          "data": {
            "text/plain": [
              "(426, 1)"
            ]
          },
          "metadata": {},
          "execution_count": 173
        }
      ]
    },
    {
      "cell_type": "code",
      "source": [
        "previsores_teste.shape"
      ],
      "metadata": {
        "colab": {
          "base_uri": "https://localhost:8080/"
        },
        "id": "FXNncQIDpiv2",
        "outputId": "ece8a0c1-e3d4-406b-96e8-60338a1e1fb0"
      },
      "execution_count": 174,
      "outputs": [
        {
          "output_type": "execute_result",
          "data": {
            "text/plain": [
              "(143, 30)"
            ]
          },
          "metadata": {},
          "execution_count": 174
        }
      ]
    },
    {
      "cell_type": "code",
      "source": [
        "classe_teste.shape"
      ],
      "metadata": {
        "colab": {
          "base_uri": "https://localhost:8080/"
        },
        "id": "bOaOsOvpplqU",
        "outputId": "30a83177-3e1a-446d-96f2-623581d5b621"
      },
      "execution_count": 175,
      "outputs": [
        {
          "output_type": "execute_result",
          "data": {
            "text/plain": [
              "(143, 1)"
            ]
          },
          "metadata": {},
          "execution_count": 175
        }
      ]
    },
    {
      "cell_type": "code",
      "source": [
        "### Transformar dados para tensores\n",
        "type(previsores_treinamento)"
      ],
      "metadata": {
        "colab": {
          "base_uri": "https://localhost:8080/"
        },
        "id": "jvZmzeFDpr4d",
        "outputId": "aaa299b5-d690-4d73-a24b-549bcfb38001"
      },
      "execution_count": 176,
      "outputs": [
        {
          "output_type": "execute_result",
          "data": {
            "text/plain": [
              "pandas.core.frame.DataFrame"
            ]
          },
          "metadata": {},
          "execution_count": 176
        }
      ]
    },
    {
      "cell_type": "code",
      "source": [
        "type(np.array(previsores_treinamento))"
      ],
      "metadata": {
        "colab": {
          "base_uri": "https://localhost:8080/"
        },
        "id": "FwKQsTC9qKzC",
        "outputId": "2b31278b-c58c-41c1-931b-6fd243690036"
      },
      "execution_count": 177,
      "outputs": [
        {
          "output_type": "execute_result",
          "data": {
            "text/plain": [
              "numpy.ndarray"
            ]
          },
          "metadata": {},
          "execution_count": 177
        }
      ]
    },
    {
      "cell_type": "code",
      "source": [
        "previsores_treinamento = torch.tensor(np.array(previsores_treinamento), dtype=torch.float)\n",
        "classe_treinamento = torch.tensor(np.array(classe_treinamento), dtype = torch.float)"
      ],
      "metadata": {
        "id": "3zt9MeO5qQOH"
      },
      "execution_count": 178,
      "outputs": []
    },
    {
      "cell_type": "code",
      "source": [
        "type(previsores_treinamento)"
      ],
      "metadata": {
        "colab": {
          "base_uri": "https://localhost:8080/"
        },
        "id": "RRGk7Ro8q3sB",
        "outputId": "ef91c33f-0441-4936-ca59-0076868c5171"
      },
      "execution_count": 179,
      "outputs": [
        {
          "output_type": "execute_result",
          "data": {
            "text/plain": [
              "torch.Tensor"
            ]
          },
          "metadata": {},
          "execution_count": 179
        }
      ]
    },
    {
      "cell_type": "code",
      "source": [
        "type(classe_treinamento)"
      ],
      "metadata": {
        "colab": {
          "base_uri": "https://localhost:8080/"
        },
        "id": "pCzGximeq73m",
        "outputId": "368c7ea1-00ec-4bee-96ec-e410cf5767cf"
      },
      "execution_count": 180,
      "outputs": [
        {
          "output_type": "execute_result",
          "data": {
            "text/plain": [
              "torch.Tensor"
            ]
          },
          "metadata": {},
          "execution_count": 180
        }
      ]
    },
    {
      "cell_type": "code",
      "source": [
        "dataset = torch.utils.data.TensorDataset(previsores_treinamento, classe_treinamento)"
      ],
      "metadata": {
        "id": "R-U1K1p0rAh3"
      },
      "execution_count": 181,
      "outputs": []
    },
    {
      "cell_type": "code",
      "source": [
        "type(dataset)"
      ],
      "metadata": {
        "colab": {
          "base_uri": "https://localhost:8080/"
        },
        "id": "s5_APFJRrjDs",
        "outputId": "c22271ee-093b-448a-f230-c60150939706"
      },
      "execution_count": 182,
      "outputs": [
        {
          "output_type": "execute_result",
          "data": {
            "text/plain": [
              "torch.utils.data.dataset.TensorDataset"
            ]
          },
          "metadata": {},
          "execution_count": 182
        }
      ]
    },
    {
      "cell_type": "code",
      "source": [
        "train_loader = torch.utils.data.DataLoader(dataset, batch_size = 10, shuffle = True)"
      ],
      "metadata": {
        "id": "-7KDvdHhrmq2"
      },
      "execution_count": 183,
      "outputs": []
    },
    {
      "cell_type": "code",
      "source": [
        " ### Construção do Modelo\n",
        "\n",
        " #30 -> 16 -> 16 -> 1\n",
        " # (entrada + saidas)/2 = (30+1) / 2 = 16\n",
        "\n",
        "classificador = nn.Sequential(\n",
        "    nn.Linear(in_features=30, out_features=16),\n",
        "    nn.ReLU(),\n",
        "    nn.Linear(16, 16),\n",
        "    nn.ReLU(),\n",
        "    nn.Linear(16, 1),\n",
        "    nn.Sigmoid()\n",
        " )"
      ],
      "metadata": {
        "id": "__8GlkpUx47q"
      },
      "execution_count": 184,
      "outputs": []
    },
    {
      "cell_type": "code",
      "source": [
        "classificador.parameters"
      ],
      "metadata": {
        "colab": {
          "base_uri": "https://localhost:8080/"
        },
        "id": "g0VJBf-H241A",
        "outputId": "363dc395-05d3-44e6-f834-a88398f41dcf"
      },
      "execution_count": 185,
      "outputs": [
        {
          "output_type": "execute_result",
          "data": {
            "text/plain": [
              "<bound method Module.parameters of Sequential(\n",
              "  (0): Linear(in_features=30, out_features=16, bias=True)\n",
              "  (1): ReLU()\n",
              "  (2): Linear(in_features=16, out_features=16, bias=True)\n",
              "  (3): ReLU()\n",
              "  (4): Linear(in_features=16, out_features=1, bias=True)\n",
              "  (5): Sigmoid()\n",
              ")>"
            ]
          },
          "metadata": {},
          "execution_count": 185
        }
      ]
    },
    {
      "cell_type": "code",
      "source": [
        "criterion = nn.BCELoss()"
      ],
      "metadata": {
        "id": "twZ0T03E3HY3"
      },
      "execution_count": 186,
      "outputs": []
    },
    {
      "cell_type": "code",
      "source": [
        "optimizer = torch.optim.Adam(classificador.parameters(), lr = 0.001, weight_decay = 0.0001)"
      ],
      "metadata": {
        "id": "R0wO-Agv3MA2"
      },
      "execution_count": 187,
      "outputs": []
    },
    {
      "cell_type": "code",
      "source": [
        "from torch.nn.modules import loss\n",
        "## treinamento do modelo\n",
        "for epoch in range(100):\n",
        "  running_loss = 0.\n",
        "\n",
        "  for data in train_loader:\n",
        "    inputs, labels = data\n",
        "    #print(inputs)\n",
        "    #print(\"------\")\n",
        "    #print(labels)\n",
        "    optimizer.zero_grad()\n",
        "\n",
        "    outputs = classificador(inputs) #classificador.forwaard(inputs)\n",
        "    #print(outputs)\n",
        "    loss = criterion(outputs, labels)\n",
        "    #print(loss)\n",
        "    loss.backward()\n",
        "    optimizer.step()\n",
        "\n",
        "    running_loss += loss.item()\n",
        "  print('Época %3d: Perda %.5f' % (epoch+1, running_loss/len(train_loader)))"
      ],
      "metadata": {
        "colab": {
          "base_uri": "https://localhost:8080/"
        },
        "id": "YidDYwCb6gAL",
        "outputId": "3b4df4f7-5969-428b-8eb6-2ca5d4d4ddce"
      },
      "execution_count": 188,
      "outputs": [
        {
          "output_type": "stream",
          "name": "stdout",
          "text": [
            "Época   1: Perda 10.78336\n",
            "Época   2: Perda 2.84863\n",
            "Época   3: Perda 1.67480\n",
            "Época   4: Perda 1.11414\n",
            "Época   5: Perda 0.63996\n",
            "Época   6: Perda 0.63753\n",
            "Época   7: Perda 0.58066\n",
            "Época   8: Perda 0.55460\n",
            "Época   9: Perda 0.55617\n",
            "Época  10: Perda 0.53322\n",
            "Época  11: Perda 0.55797\n",
            "Época  12: Perda 0.53816\n",
            "Época  13: Perda 0.52938\n",
            "Época  14: Perda 0.33227\n",
            "Época  15: Perda 0.51360\n",
            "Época  16: Perda 0.35532\n",
            "Época  17: Perda 0.49602\n",
            "Época  18: Perda 0.33208\n",
            "Época  19: Perda 0.29349\n",
            "Época  20: Perda 0.25046\n",
            "Época  21: Perda 0.29527\n",
            "Época  22: Perda 0.49888\n",
            "Época  23: Perda 0.47241\n",
            "Época  24: Perda 0.45883\n",
            "Época  25: Perda 0.27544\n",
            "Época  26: Perda 0.23399\n",
            "Época  27: Perda 0.26373\n",
            "Época  28: Perda 0.24136\n",
            "Época  29: Perda 0.28275\n",
            "Época  30: Perda 0.22633\n",
            "Época  31: Perda 0.19294\n",
            "Época  32: Perda 0.22258\n",
            "Época  33: Perda 0.20290\n",
            "Época  34: Perda 0.20888\n",
            "Época  35: Perda 0.20335\n",
            "Época  36: Perda 0.20316\n",
            "Época  37: Perda 0.18855\n",
            "Época  38: Perda 0.22316\n",
            "Época  39: Perda 0.23315\n",
            "Época  40: Perda 0.19261\n",
            "Época  41: Perda 0.17163\n",
            "Época  42: Perda 0.18287\n",
            "Época  43: Perda 0.17056\n",
            "Época  44: Perda 0.16674\n",
            "Época  45: Perda 0.18515\n",
            "Época  46: Perda 0.22250\n",
            "Época  47: Perda 0.17558\n",
            "Época  48: Perda 0.22754\n",
            "Época  49: Perda 0.19833\n",
            "Época  50: Perda 0.16371\n",
            "Época  51: Perda 0.16855\n",
            "Época  52: Perda 0.18337\n",
            "Época  53: Perda 0.17593\n",
            "Época  54: Perda 0.17882\n",
            "Época  55: Perda 0.18470\n",
            "Época  56: Perda 0.17073\n",
            "Época  57: Perda 0.15674\n",
            "Época  58: Perda 0.18435\n",
            "Época  59: Perda 0.14023\n",
            "Época  60: Perda 0.15765\n",
            "Época  61: Perda 0.16521\n",
            "Época  62: Perda 0.15513\n",
            "Época  63: Perda 0.13765\n",
            "Época  64: Perda 0.14962\n",
            "Época  65: Perda 0.15919\n",
            "Época  66: Perda 0.23974\n",
            "Época  67: Perda 0.16218\n",
            "Época  68: Perda 0.15015\n",
            "Época  69: Perda 0.15990\n",
            "Época  70: Perda 0.18359\n",
            "Época  71: Perda 0.14650\n",
            "Época  72: Perda 0.16269\n",
            "Época  73: Perda 0.12191\n",
            "Época  74: Perda 0.13901\n",
            "Época  75: Perda 0.13926\n",
            "Época  76: Perda 0.13105\n",
            "Época  77: Perda 0.12779\n",
            "Época  78: Perda 0.14741\n",
            "Época  79: Perda 0.20884\n",
            "Época  80: Perda 0.20729\n",
            "Época  81: Perda 0.22643\n",
            "Época  82: Perda 0.16890\n",
            "Época  83: Perda 0.11829\n",
            "Época  84: Perda 0.12809\n",
            "Época  85: Perda 0.12544\n",
            "Época  86: Perda 0.12474\n",
            "Época  87: Perda 0.15365\n",
            "Época  88: Perda 0.11945\n",
            "Época  89: Perda 0.15052\n",
            "Época  90: Perda 0.12977\n",
            "Época  91: Perda 0.16607\n",
            "Época  92: Perda 0.14753\n",
            "Época  93: Perda 0.09912\n",
            "Época  94: Perda 0.13184\n",
            "Época  95: Perda 0.10702\n",
            "Época  96: Perda 0.12766\n",
            "Época  97: Perda 0.12817\n",
            "Época  98: Perda 0.12291\n",
            "Época  99: Perda 0.13988\n",
            "Época 100: Perda 0.13753\n"
          ]
        }
      ]
    },
    {
      "cell_type": "code",
      "source": [
        "## Visualização de peso\n",
        "\n",
        "# 30 -> 16 ->16 -> 1\n",
        "params = list(classificador.parameters())"
      ],
      "metadata": {
        "id": "OsCUvOzZ8aF2"
      },
      "execution_count": 189,
      "outputs": []
    },
    {
      "cell_type": "code",
      "source": [
        "params"
      ],
      "metadata": {
        "colab": {
          "base_uri": "https://localhost:8080/"
        },
        "id": "Q2wcrZu8DpaT",
        "outputId": "a59e5c04-d724-40d0-c2d3-79b1f5950a49"
      },
      "execution_count": 190,
      "outputs": [
        {
          "output_type": "execute_result",
          "data": {
            "text/plain": [
              "[Parameter containing:\n",
              " tensor([[-6.8758e-02, -4.5974e-02, -1.6881e-01,  5.1889e-02, -1.5407e-01,\n",
              "           9.6941e-02, -1.3697e-01, -1.2676e-01, -2.2155e-01,  1.6481e-01,\n",
              "          -3.7779e-02,  5.3912e-02, -1.2468e-01, -1.1436e-01, -1.3912e-03,\n",
              "          -2.1398e-01, -3.9141e-01,  6.5978e-04, -6.6723e-03,  1.4566e-03,\n",
              "           1.4102e-01, -2.0637e-02, -2.8877e-02,  1.4110e-01,  4.9312e-01,\n",
              "           1.3069e-01, -1.8659e-01,  4.4318e-02,  2.9165e-01,  3.7982e-02],\n",
              "         [ 1.9542e-01,  2.0732e-01,  2.8639e-01,  9.7069e-02, -1.3307e-01,\n",
              "          -8.0457e-02, -6.7914e-02, -1.2084e-01, -2.8640e-02,  2.6983e-01,\n",
              "          -6.2204e-02, -9.1055e-02, -7.9371e-03,  1.6734e-01, -7.2613e-03,\n",
              "          -9.6179e-02, -1.1189e-02,  1.8739e-01,  1.0368e-01, -1.7496e-02,\n",
              "           9.8523e-02,  6.1815e-02,  1.8995e-01,  7.5789e-03, -1.5083e-02,\n",
              "          -2.4596e-01, -1.7552e-01, -7.0061e-03, -6.5762e-02, -1.6863e-01],\n",
              "         [-1.2082e-02, -4.2609e-02, -2.4278e-01, -1.0345e-01, -8.2591e-03,\n",
              "           4.9597e-02,  3.7827e-02,  1.9156e-02, -9.8577e-02,  2.8402e-01,\n",
              "           1.5881e-01,  9.2320e-02, -1.0323e-01,  5.5662e-02, -5.5894e-04,\n",
              "          -2.9179e-01,  2.8243e-02,  9.0303e-04,  3.8270e-01, -1.5171e-04,\n",
              "           3.7270e-02, -1.8036e-01, -7.5384e-02,  9.8725e-04, -2.4923e-01,\n",
              "          -1.3240e-01, -1.7683e-01,  9.9595e-02,  2.3637e-02, -9.4252e-03],\n",
              "         [-3.6936e-01,  4.9446e-02, -1.5071e-01,  8.9715e-02, -1.7998e-01,\n",
              "          -3.6083e-02,  1.9950e-02,  6.2705e-02,  1.3708e-01, -2.3545e-01,\n",
              "           1.9331e-01, -1.5150e-01,  3.6820e-02,  1.3893e-02,  6.8357e-04,\n",
              "           5.1560e-02,  2.2120e-02, -1.9164e-02,  1.2596e-01,  6.0075e-03,\n",
              "           5.9529e-02, -1.5046e-01, -7.3884e-02,  1.4546e-02,  2.3399e-01,\n",
              "           9.5019e-02,  1.8605e-02,  2.4927e-01,  1.1270e-01,  3.9505e-01],\n",
              "         [-4.3557e-01, -4.4699e-02, -1.3858e-01, -1.3687e-01,  3.7306e-01,\n",
              "           3.5150e-02,  1.2817e-01, -3.1172e-01, -2.8485e-01,  2.2854e-01,\n",
              "          -1.7721e-01,  2.7300e-02, -1.6225e-02,  7.1856e-02,  4.3100e-02,\n",
              "          -3.4611e-01, -2.9974e-01, -2.3152e-01,  3.4410e-01,  2.3291e-01,\n",
              "          -2.9773e-01, -1.5884e-02, -1.7189e-01,  2.4209e-01, -1.2164e-02,\n",
              "          -7.7208e-02, -4.3515e-01, -1.1875e-01,  4.3487e-03,  5.0240e-01],\n",
              "         [ 3.0821e-02, -1.6578e-02,  1.1280e-01,  1.1192e-01,  5.8246e-02,\n",
              "           4.1913e-01, -5.3476e-02,  3.1163e-01,  2.2077e-01, -8.7384e-02,\n",
              "           1.5078e-01,  1.5398e-01, -1.0899e-01,  1.3198e-01, -2.7945e-03,\n",
              "           3.3207e-01,  1.8711e-01,  9.3625e-02, -2.2259e-01, -8.4005e-02,\n",
              "           2.8864e-02, -1.8328e-01,  3.8867e-02, -1.9581e-02, -1.9910e-01,\n",
              "          -1.1596e-02, -1.0407e-01,  2.6339e-01,  7.0347e-02, -2.5760e-01],\n",
              "         [-4.7504e-03,  2.3343e-02,  3.0091e-01, -1.1799e-01, -2.3138e-01,\n",
              "          -5.2386e-01, -1.7130e-02, -2.7054e-02,  2.3587e-01,  2.1960e-02,\n",
              "          -1.0893e-01, -2.3921e-01,  6.0422e-02,  5.4633e-02, -3.5509e-03,\n",
              "          -2.5552e-02,  7.9274e-02, -7.9093e-03,  3.0467e-01, -6.0303e-03,\n",
              "           1.0205e-02, -6.7911e-02,  1.9984e-01, -9.9251e-02, -2.8998e-01,\n",
              "           1.2194e-01,  2.1211e-01, -2.0562e-01, -2.5774e-01,  5.1543e-02],\n",
              "         [-2.8418e-01, -7.8714e-03, -1.3239e-01, -1.6743e-01,  3.4173e-01,\n",
              "          -4.4088e-02, -1.3729e-02, -1.8614e-02, -3.7049e-02, -4.7244e-02,\n",
              "          -8.8618e-02, -1.1590e-01,  6.8536e-02,  1.0416e-01,  4.3278e-03,\n",
              "           2.1902e-02, -1.0861e-01,  1.3687e-02, -2.8336e-01,  8.5776e-03,\n",
              "          -2.0611e-01,  9.0369e-02, -2.8925e-01,  1.0000e-01, -4.7419e-02,\n",
              "          -3.0239e-01,  3.3852e-02,  1.4056e-01, -3.9899e-02,  5.4125e-02],\n",
              "         [ 8.5856e-02, -1.6411e-01, -3.8629e-01, -4.0786e-02,  3.7577e-01,\n",
              "           1.3859e-01, -3.9488e-01, -9.2736e-02,  1.1091e-01,  1.9993e-01,\n",
              "           1.6835e-01, -3.0083e-02,  1.1013e-01,  1.0779e-01,  7.5948e-03,\n",
              "          -1.5654e-01,  8.1483e-03, -2.8046e-01,  3.7360e-01, -2.0762e-02,\n",
              "          -2.5369e-01, -5.5042e-02, -3.0013e-01,  2.0517e-01, -1.9019e-02,\n",
              "           1.8753e-01, -7.5869e-02,  1.9512e-01,  9.9419e-02,  2.6386e-01],\n",
              "         [-2.5630e-02,  1.4752e-01,  2.8781e-01,  1.2559e-02, -3.2981e-01,\n",
              "          -1.2364e-01, -7.6542e-02,  1.6670e-01,  5.1938e-02,  1.1205e-01,\n",
              "           1.1327e-01, -1.7646e-01,  1.5192e-01, -1.7099e-01, -1.0401e-02,\n",
              "           2.4548e-02,  1.6948e-01,  1.2621e-01,  1.3625e-01, -1.9759e-01,\n",
              "           1.8699e-01, -1.4237e-01,  3.1062e-01, -7.8164e-02,  1.3725e-01,\n",
              "           9.0337e-03,  1.7212e-03, -8.4802e-02,  9.8053e-02, -1.4832e-01],\n",
              "         [-1.4014e-01, -5.6345e-02,  4.2161e-02,  2.3259e-02, -4.9597e-02,\n",
              "          -9.0061e-02, -1.4940e-01, -1.2599e-01,  2.6111e-01,  5.4235e-02,\n",
              "          -1.2114e-01,  5.5599e-02, -1.1246e-01,  1.7389e-01, -2.1837e-03,\n",
              "          -9.9499e-02, -7.0865e-02, -3.4323e-01, -1.7855e-01,  1.7811e-03,\n",
              "          -2.0458e-01, -1.0200e-01,  4.9655e-02,  1.2549e-01,  3.1910e-01,\n",
              "          -1.6357e-01,  3.1755e-01,  2.1876e-01, -1.2922e-01, -2.8016e-02],\n",
              "         [ 6.7762e-02, -1.6538e-02,  1.1783e-01,  1.3570e-01, -5.1763e-02,\n",
              "           2.3318e-01, -1.0425e-01,  2.5288e-01,  1.9977e-01, -9.4546e-02,\n",
              "           4.0562e-03,  9.2027e-02, -1.7273e-02, -3.2931e-01, -1.4668e-02,\n",
              "           3.7461e-01,  2.0964e-03,  3.3210e-01, -1.9388e-01, -1.7987e-01,\n",
              "           2.0306e-01, -4.8392e-02,  2.9248e-01, -1.4335e-01, -2.2953e-01,\n",
              "           1.9208e-01,  4.4103e-02,  8.2241e-02,  1.4347e-01, -4.5820e-01],\n",
              "         [ 1.1821e-01,  5.7466e-02, -2.5654e-01, -5.6209e-02,  1.4862e-01,\n",
              "           2.0140e-01,  2.7292e-01,  2.7956e-02, -9.0503e-02, -2.5079e-01,\n",
              "           1.2432e-01, -4.3815e-02,  1.0919e-01,  6.9885e-02, -3.5241e-03,\n",
              "          -4.9244e-02,  3.0922e-03,  2.2875e-02, -2.8040e-01,  1.5266e-01,\n",
              "           6.1663e-02,  1.4810e-01, -2.5095e-02,  4.3756e-02, -4.3097e-02,\n",
              "           1.0931e-01,  2.2541e-02, -2.6103e-01,  7.5664e-02,  1.1719e-01],\n",
              "         [ 8.9904e-02, -1.1065e-01, -1.0539e-01,  2.0717e-02,  6.2355e-02,\n",
              "           1.0249e-02, -1.2570e-01,  7.4305e-02, -4.1034e-02, -1.8381e-01,\n",
              "           1.8162e-01, -8.9867e-02, -1.6678e-01,  1.6748e-01,  5.0678e-03,\n",
              "           1.6544e-02,  1.5902e-01, -1.1872e-01,  4.1115e-01,  6.3081e-03,\n",
              "           1.2233e-01, -2.8966e-02, -8.4761e-02,  1.5564e-01, -2.3602e-02,\n",
              "          -2.3686e-01, -6.8182e-02,  1.0181e-01,  1.1609e-01,  2.4330e-02],\n",
              "         [ 5.7720e-02, -2.3591e-02,  4.5249e-02, -1.2951e-01, -1.8455e-16,\n",
              "          -6.3272e-13,  7.3982e-11, -9.7318e-40, -2.5950e-02,  2.1700e-23,\n",
              "          -6.8727e-05, -2.1424e-02, -2.5863e-02, -3.5407e-02,  2.0858e-39,\n",
              "           1.5876e-39, -1.5474e-02, -1.0430e-39,  2.1490e-39, -1.3229e-40,\n",
              "           7.1263e-02,  8.6057e-02, -1.0550e-01, -1.7020e-01, -8.6160e-13,\n",
              "          -7.3700e-04,  2.7531e-06, -2.9554e-20, -1.4369e-06, -4.0315e-18],\n",
              "         [ 5.3569e-39,  9.5109e-40, -3.2673e-39,  2.9163e-39, -3.7278e-39,\n",
              "           6.0502e-39,  4.5806e-39,  4.3560e-39,  3.9955e-39, -4.6621e-39,\n",
              "           1.0964e-39, -2.7346e-12, -7.1512e-09, -4.9207e-39,  2.2374e-39,\n",
              "          -4.7572e-38, -2.3219e-39,  3.6393e-39,  3.3310e-39,  4.4581e-41,\n",
              "          -1.8839e-40, -1.0213e-39,  3.6990e-39, -1.2359e-27, -3.4976e-40,\n",
              "           5.3474e-42,  3.0349e-40,  6.3292e-39, -4.2911e-39, -6.4905e-39]],\n",
              "        requires_grad=True),\n",
              " Parameter containing:\n",
              " tensor([-1.4600e-01,  2.5992e-01, -2.4396e-01, -2.4689e-01, -7.8148e-01,\n",
              "          1.9811e-01,  1.7916e-01, -2.7091e-01, -3.7150e-01,  4.3308e-01,\n",
              "         -2.8282e-01,  4.1587e-01, -2.8888e-01, -4.7781e-02, -1.1200e-03,\n",
              "         -4.3940e-39], requires_grad=True),\n",
              " Parameter containing:\n",
              " tensor([[-1.8817e-02, -2.5119e-02, -1.4728e-02,  4.1630e-02, -8.0131e-03,\n",
              "          -1.8645e-03, -1.8664e-02,  5.6236e-39, -1.5539e-01, -1.8350e-01,\n",
              "          -2.0228e-01,  5.7261e-02,  1.6629e-01,  2.1726e-01,  3.4539e-02,\n",
              "          -2.1995e-39],\n",
              "         [ 3.6016e-02, -1.6548e-01,  6.1439e-02,  3.2403e-03,  2.4334e-02,\n",
              "           1.3656e-01,  5.4474e-39, -1.0806e-39,  8.2869e-03, -2.5236e-01,\n",
              "          -4.9484e-02, -5.4535e-02, -1.7171e-01,  2.3478e-01,  2.2949e-39,\n",
              "           5.6732e-39],\n",
              "         [ 2.4004e-01, -4.4722e-02,  1.4993e-01,  1.5460e-01,  3.6686e-01,\n",
              "          -1.0214e-01, -4.6205e-02, -7.8649e-02,  2.3791e-01,  5.0054e-02,\n",
              "          -4.3466e-04, -4.4574e-03,  2.2135e-01,  9.2165e-02,  6.6199e-02,\n",
              "          -7.1820e-03],\n",
              "         [-1.0895e-01,  7.9534e-02,  4.7395e-02, -2.0077e-01, -4.8053e-02,\n",
              "           5.5593e-02,  3.0290e-02, -6.2191e-02,  1.9659e-01,  8.5788e-02,\n",
              "          -3.0686e-01,  2.8669e-01,  1.6382e-01,  1.3542e-01,  9.9777e-02,\n",
              "           1.0746e-02],\n",
              "         [ 9.8536e-02, -3.4721e-03, -3.9680e-04, -2.6002e-01,  8.0582e-02,\n",
              "          -4.2798e-01,  1.1478e-01,  2.4934e-01,  3.7852e-02,  6.1207e-03,\n",
              "          -2.1695e-01,  1.1242e-01, -6.8965e-02, -7.9919e-02, -8.5177e-02,\n",
              "          -2.6790e-27],\n",
              "         [ 1.0332e-01, -4.3266e-02, -1.6671e-03, -1.6011e-01, -8.5809e-02,\n",
              "           6.0449e-02, -1.0533e-39,  1.0492e-39, -8.2694e-02, -1.0738e-01,\n",
              "          -1.0291e-01,  1.3061e-01, -1.8304e-01,  9.5021e-02,  2.9119e-04,\n",
              "          -2.3312e-39],\n",
              "         [-1.2618e-01, -4.1482e-02,  4.7272e-02, -8.9598e-03,  1.6915e-01,\n",
              "           1.5255e-01,  4.7636e-02, -1.2492e-01, -1.3816e-01, -2.0445e-01,\n",
              "           9.4767e-02,  1.2160e-02,  2.1189e-01,  2.3190e-01,  5.2271e-02,\n",
              "          -6.0353e-09],\n",
              "         [ 1.0869e-01, -2.5308e-02, -1.3754e-01, -7.9418e-02, -3.0541e-01,\n",
              "           1.2617e-01, -1.5992e-01, -1.6563e-01, -6.5963e-02,  1.3828e-01,\n",
              "           7.1923e-02,  6.2354e-02, -8.8369e-02, -1.5912e-01,  1.5951e-39,\n",
              "          -3.3255e-39],\n",
              "         [-1.2485e-01,  1.8243e-01, -1.6815e-01, -1.0232e-01,  1.7642e-01,\n",
              "           1.2671e-01,  1.3458e-01,  1.2376e-01, -8.2408e-02, -1.4126e-01,\n",
              "           7.7001e-02,  9.1588e-02, -5.5340e-02,  1.9664e-01, -1.1642e-01,\n",
              "           7.2274e-10],\n",
              "         [ 1.8906e-01,  1.1816e-01, -1.3947e-01,  9.2710e-02, -1.2201e-01,\n",
              "           5.9580e-02,  1.8520e-01, -2.2712e-01, -1.1827e-01,  2.0249e-01,\n",
              "          -2.1515e-01, -4.0119e-02, -9.4016e-02, -4.5428e-02,  1.0530e-02,\n",
              "          -9.9433e-03],\n",
              "         [ 7.1015e-02, -8.4643e-02, -6.3932e-02, -4.4491e-01, -3.5356e-01,\n",
              "          -1.9279e-03,  5.5981e-03, -2.6181e-02, -3.8081e-02, -5.1243e-02,\n",
              "           1.8403e-01, -3.6414e-02,  1.9830e-01,  1.4145e-01,  2.2407e-02,\n",
              "           1.5376e-03],\n",
              "         [ 1.1146e-01, -4.0191e-02, -1.7404e-01,  1.1071e-01, -3.6449e-02,\n",
              "           1.7326e-01, -2.0028e-39, -6.1932e-39, -2.7512e-01, -6.2609e-02,\n",
              "          -7.2098e-02,  1.5652e-01, -1.1996e-01, -2.2147e-01,  4.9138e-03,\n",
              "           1.4607e-39],\n",
              "         [ 9.3391e-02, -7.7993e-02,  7.6330e-02, -1.5228e-01, -8.9684e-02,\n",
              "          -4.0081e-01,  6.9792e-02,  4.9319e-02,  1.8446e-01, -5.3876e-02,\n",
              "           1.4730e-01,  1.3491e-01,  5.2164e-02, -1.4861e-01, -1.0636e-02,\n",
              "          -2.8871e-03],\n",
              "         [-1.3474e-01,  2.4349e-01,  6.0637e-02, -7.5726e-02, -1.8255e-01,\n",
              "           6.5965e-02, -1.5861e-01,  1.0885e-01, -1.1090e-01,  3.0289e-02,\n",
              "           3.9259e-02,  9.9004e-02, -3.8883e-02,  3.4992e-02, -7.2727e-02,\n",
              "           2.2381e-38],\n",
              "         [-5.2033e-03,  2.2353e-01,  6.1868e-02, -4.7569e-02, -1.1992e-01,\n",
              "          -5.7046e-02, -1.5012e-01, -2.5660e-02, -2.0844e-01,  1.2004e-01,\n",
              "           1.7537e-01,  2.7139e-02, -1.5402e-01, -2.0282e-01, -5.2240e-39,\n",
              "          -1.8276e-39],\n",
              "         [-1.7458e-02, -4.0691e-03,  1.1293e-02, -8.5153e-03,  5.1473e-03,\n",
              "          -1.0837e-03, -7.0239e-03, -1.1294e-02, -5.0175e-02, -4.8400e-02,\n",
              "          -1.6497e-02, -2.3168e-03, -5.8774e-02, -5.9931e-03, -5.0867e-39,\n",
              "          -2.7407e-39]], requires_grad=True),\n",
              " Parameter containing:\n",
              " tensor([-5.8659e-02, -2.6388e-01, -8.4171e-01,  5.2504e-01, -2.6894e-01,\n",
              "         -1.5931e-01, -1.2184e-01, -1.0973e-01,  1.0272e-01,  5.8468e-01,\n",
              "          3.5140e-01,  3.7946e-02, -5.7485e-01,  4.2154e-01,  2.1834e-01,\n",
              "          3.0161e-05], requires_grad=True),\n",
              " Parameter containing:\n",
              " tensor([[-0.1064, -0.1002, -0.1056,  0.1413, -0.0110, -0.0178, -0.1370, -0.0082,\n",
              "           0.1397,  0.2351,  0.1348,  0.1612, -0.0613,  0.1970,  0.0773, -0.0110]],\n",
              "        requires_grad=True),\n",
              " Parameter containing:\n",
              " tensor([0.7395], requires_grad=True)]"
            ]
          },
          "metadata": {},
          "execution_count": 190
        }
      ]
    },
    {
      "cell_type": "code",
      "source": [
        "pesos0 = params [0]\n",
        "pesos0.shape"
      ],
      "metadata": {
        "colab": {
          "base_uri": "https://localhost:8080/"
        },
        "id": "tzVBG7trDudv",
        "outputId": "30f610af-1ac4-472e-cf65-ddad5321acb3"
      },
      "execution_count": 191,
      "outputs": [
        {
          "output_type": "execute_result",
          "data": {
            "text/plain": [
              "torch.Size([16, 30])"
            ]
          },
          "metadata": {},
          "execution_count": 191
        }
      ]
    },
    {
      "cell_type": "code",
      "source": [
        "print(pesos0)"
      ],
      "metadata": {
        "colab": {
          "base_uri": "https://localhost:8080/"
        },
        "id": "dOABzU3VEzGE",
        "outputId": "f13019b6-2b48-4f8c-814d-b137b079cdf9"
      },
      "execution_count": 192,
      "outputs": [
        {
          "output_type": "stream",
          "name": "stdout",
          "text": [
            "Parameter containing:\n",
            "tensor([[-6.8758e-02, -4.5974e-02, -1.6881e-01,  5.1889e-02, -1.5407e-01,\n",
            "          9.6941e-02, -1.3697e-01, -1.2676e-01, -2.2155e-01,  1.6481e-01,\n",
            "         -3.7779e-02,  5.3912e-02, -1.2468e-01, -1.1436e-01, -1.3912e-03,\n",
            "         -2.1398e-01, -3.9141e-01,  6.5978e-04, -6.6723e-03,  1.4566e-03,\n",
            "          1.4102e-01, -2.0637e-02, -2.8877e-02,  1.4110e-01,  4.9312e-01,\n",
            "          1.3069e-01, -1.8659e-01,  4.4318e-02,  2.9165e-01,  3.7982e-02],\n",
            "        [ 1.9542e-01,  2.0732e-01,  2.8639e-01,  9.7069e-02, -1.3307e-01,\n",
            "         -8.0457e-02, -6.7914e-02, -1.2084e-01, -2.8640e-02,  2.6983e-01,\n",
            "         -6.2204e-02, -9.1055e-02, -7.9371e-03,  1.6734e-01, -7.2613e-03,\n",
            "         -9.6179e-02, -1.1189e-02,  1.8739e-01,  1.0368e-01, -1.7496e-02,\n",
            "          9.8523e-02,  6.1815e-02,  1.8995e-01,  7.5789e-03, -1.5083e-02,\n",
            "         -2.4596e-01, -1.7552e-01, -7.0061e-03, -6.5762e-02, -1.6863e-01],\n",
            "        [-1.2082e-02, -4.2609e-02, -2.4278e-01, -1.0345e-01, -8.2591e-03,\n",
            "          4.9597e-02,  3.7827e-02,  1.9156e-02, -9.8577e-02,  2.8402e-01,\n",
            "          1.5881e-01,  9.2320e-02, -1.0323e-01,  5.5662e-02, -5.5894e-04,\n",
            "         -2.9179e-01,  2.8243e-02,  9.0303e-04,  3.8270e-01, -1.5171e-04,\n",
            "          3.7270e-02, -1.8036e-01, -7.5384e-02,  9.8725e-04, -2.4923e-01,\n",
            "         -1.3240e-01, -1.7683e-01,  9.9595e-02,  2.3637e-02, -9.4252e-03],\n",
            "        [-3.6936e-01,  4.9446e-02, -1.5071e-01,  8.9715e-02, -1.7998e-01,\n",
            "         -3.6083e-02,  1.9950e-02,  6.2705e-02,  1.3708e-01, -2.3545e-01,\n",
            "          1.9331e-01, -1.5150e-01,  3.6820e-02,  1.3893e-02,  6.8357e-04,\n",
            "          5.1560e-02,  2.2120e-02, -1.9164e-02,  1.2596e-01,  6.0075e-03,\n",
            "          5.9529e-02, -1.5046e-01, -7.3884e-02,  1.4546e-02,  2.3399e-01,\n",
            "          9.5019e-02,  1.8605e-02,  2.4927e-01,  1.1270e-01,  3.9505e-01],\n",
            "        [-4.3557e-01, -4.4699e-02, -1.3858e-01, -1.3687e-01,  3.7306e-01,\n",
            "          3.5150e-02,  1.2817e-01, -3.1172e-01, -2.8485e-01,  2.2854e-01,\n",
            "         -1.7721e-01,  2.7300e-02, -1.6225e-02,  7.1856e-02,  4.3100e-02,\n",
            "         -3.4611e-01, -2.9974e-01, -2.3152e-01,  3.4410e-01,  2.3291e-01,\n",
            "         -2.9773e-01, -1.5884e-02, -1.7189e-01,  2.4209e-01, -1.2164e-02,\n",
            "         -7.7208e-02, -4.3515e-01, -1.1875e-01,  4.3487e-03,  5.0240e-01],\n",
            "        [ 3.0821e-02, -1.6578e-02,  1.1280e-01,  1.1192e-01,  5.8246e-02,\n",
            "          4.1913e-01, -5.3476e-02,  3.1163e-01,  2.2077e-01, -8.7384e-02,\n",
            "          1.5078e-01,  1.5398e-01, -1.0899e-01,  1.3198e-01, -2.7945e-03,\n",
            "          3.3207e-01,  1.8711e-01,  9.3625e-02, -2.2259e-01, -8.4005e-02,\n",
            "          2.8864e-02, -1.8328e-01,  3.8867e-02, -1.9581e-02, -1.9910e-01,\n",
            "         -1.1596e-02, -1.0407e-01,  2.6339e-01,  7.0347e-02, -2.5760e-01],\n",
            "        [-4.7504e-03,  2.3343e-02,  3.0091e-01, -1.1799e-01, -2.3138e-01,\n",
            "         -5.2386e-01, -1.7130e-02, -2.7054e-02,  2.3587e-01,  2.1960e-02,\n",
            "         -1.0893e-01, -2.3921e-01,  6.0422e-02,  5.4633e-02, -3.5509e-03,\n",
            "         -2.5552e-02,  7.9274e-02, -7.9093e-03,  3.0467e-01, -6.0303e-03,\n",
            "          1.0205e-02, -6.7911e-02,  1.9984e-01, -9.9251e-02, -2.8998e-01,\n",
            "          1.2194e-01,  2.1211e-01, -2.0562e-01, -2.5774e-01,  5.1543e-02],\n",
            "        [-2.8418e-01, -7.8714e-03, -1.3239e-01, -1.6743e-01,  3.4173e-01,\n",
            "         -4.4088e-02, -1.3729e-02, -1.8614e-02, -3.7049e-02, -4.7244e-02,\n",
            "         -8.8618e-02, -1.1590e-01,  6.8536e-02,  1.0416e-01,  4.3278e-03,\n",
            "          2.1902e-02, -1.0861e-01,  1.3687e-02, -2.8336e-01,  8.5776e-03,\n",
            "         -2.0611e-01,  9.0369e-02, -2.8925e-01,  1.0000e-01, -4.7419e-02,\n",
            "         -3.0239e-01,  3.3852e-02,  1.4056e-01, -3.9899e-02,  5.4125e-02],\n",
            "        [ 8.5856e-02, -1.6411e-01, -3.8629e-01, -4.0786e-02,  3.7577e-01,\n",
            "          1.3859e-01, -3.9488e-01, -9.2736e-02,  1.1091e-01,  1.9993e-01,\n",
            "          1.6835e-01, -3.0083e-02,  1.1013e-01,  1.0779e-01,  7.5948e-03,\n",
            "         -1.5654e-01,  8.1483e-03, -2.8046e-01,  3.7360e-01, -2.0762e-02,\n",
            "         -2.5369e-01, -5.5042e-02, -3.0013e-01,  2.0517e-01, -1.9019e-02,\n",
            "          1.8753e-01, -7.5869e-02,  1.9512e-01,  9.9419e-02,  2.6386e-01],\n",
            "        [-2.5630e-02,  1.4752e-01,  2.8781e-01,  1.2559e-02, -3.2981e-01,\n",
            "         -1.2364e-01, -7.6542e-02,  1.6670e-01,  5.1938e-02,  1.1205e-01,\n",
            "          1.1327e-01, -1.7646e-01,  1.5192e-01, -1.7099e-01, -1.0401e-02,\n",
            "          2.4548e-02,  1.6948e-01,  1.2621e-01,  1.3625e-01, -1.9759e-01,\n",
            "          1.8699e-01, -1.4237e-01,  3.1062e-01, -7.8164e-02,  1.3725e-01,\n",
            "          9.0337e-03,  1.7212e-03, -8.4802e-02,  9.8053e-02, -1.4832e-01],\n",
            "        [-1.4014e-01, -5.6345e-02,  4.2161e-02,  2.3259e-02, -4.9597e-02,\n",
            "         -9.0061e-02, -1.4940e-01, -1.2599e-01,  2.6111e-01,  5.4235e-02,\n",
            "         -1.2114e-01,  5.5599e-02, -1.1246e-01,  1.7389e-01, -2.1837e-03,\n",
            "         -9.9499e-02, -7.0865e-02, -3.4323e-01, -1.7855e-01,  1.7811e-03,\n",
            "         -2.0458e-01, -1.0200e-01,  4.9655e-02,  1.2549e-01,  3.1910e-01,\n",
            "         -1.6357e-01,  3.1755e-01,  2.1876e-01, -1.2922e-01, -2.8016e-02],\n",
            "        [ 6.7762e-02, -1.6538e-02,  1.1783e-01,  1.3570e-01, -5.1763e-02,\n",
            "          2.3318e-01, -1.0425e-01,  2.5288e-01,  1.9977e-01, -9.4546e-02,\n",
            "          4.0562e-03,  9.2027e-02, -1.7273e-02, -3.2931e-01, -1.4668e-02,\n",
            "          3.7461e-01,  2.0964e-03,  3.3210e-01, -1.9388e-01, -1.7987e-01,\n",
            "          2.0306e-01, -4.8392e-02,  2.9248e-01, -1.4335e-01, -2.2953e-01,\n",
            "          1.9208e-01,  4.4103e-02,  8.2241e-02,  1.4347e-01, -4.5820e-01],\n",
            "        [ 1.1821e-01,  5.7466e-02, -2.5654e-01, -5.6209e-02,  1.4862e-01,\n",
            "          2.0140e-01,  2.7292e-01,  2.7956e-02, -9.0503e-02, -2.5079e-01,\n",
            "          1.2432e-01, -4.3815e-02,  1.0919e-01,  6.9885e-02, -3.5241e-03,\n",
            "         -4.9244e-02,  3.0922e-03,  2.2875e-02, -2.8040e-01,  1.5266e-01,\n",
            "          6.1663e-02,  1.4810e-01, -2.5095e-02,  4.3756e-02, -4.3097e-02,\n",
            "          1.0931e-01,  2.2541e-02, -2.6103e-01,  7.5664e-02,  1.1719e-01],\n",
            "        [ 8.9904e-02, -1.1065e-01, -1.0539e-01,  2.0717e-02,  6.2355e-02,\n",
            "          1.0249e-02, -1.2570e-01,  7.4305e-02, -4.1034e-02, -1.8381e-01,\n",
            "          1.8162e-01, -8.9867e-02, -1.6678e-01,  1.6748e-01,  5.0678e-03,\n",
            "          1.6544e-02,  1.5902e-01, -1.1872e-01,  4.1115e-01,  6.3081e-03,\n",
            "          1.2233e-01, -2.8966e-02, -8.4761e-02,  1.5564e-01, -2.3602e-02,\n",
            "         -2.3686e-01, -6.8182e-02,  1.0181e-01,  1.1609e-01,  2.4330e-02],\n",
            "        [ 5.7720e-02, -2.3591e-02,  4.5249e-02, -1.2951e-01, -1.8455e-16,\n",
            "         -6.3272e-13,  7.3982e-11, -9.7318e-40, -2.5950e-02,  2.1700e-23,\n",
            "         -6.8727e-05, -2.1424e-02, -2.5863e-02, -3.5407e-02,  2.0858e-39,\n",
            "          1.5876e-39, -1.5474e-02, -1.0430e-39,  2.1490e-39, -1.3229e-40,\n",
            "          7.1263e-02,  8.6057e-02, -1.0550e-01, -1.7020e-01, -8.6160e-13,\n",
            "         -7.3700e-04,  2.7531e-06, -2.9554e-20, -1.4369e-06, -4.0315e-18],\n",
            "        [ 5.3569e-39,  9.5109e-40, -3.2673e-39,  2.9163e-39, -3.7278e-39,\n",
            "          6.0502e-39,  4.5806e-39,  4.3560e-39,  3.9955e-39, -4.6621e-39,\n",
            "          1.0964e-39, -2.7346e-12, -7.1512e-09, -4.9207e-39,  2.2374e-39,\n",
            "         -4.7572e-38, -2.3219e-39,  3.6393e-39,  3.3310e-39,  4.4581e-41,\n",
            "         -1.8839e-40, -1.0213e-39,  3.6990e-39, -1.2359e-27, -3.4976e-40,\n",
            "          5.3474e-42,  3.0349e-40,  6.3292e-39, -4.2911e-39, -6.4905e-39]],\n",
            "       requires_grad=True)\n"
          ]
        }
      ]
    },
    {
      "cell_type": "code",
      "source": [
        " bias0 = params[1]\n",
        " bias0.shape"
      ],
      "metadata": {
        "colab": {
          "base_uri": "https://localhost:8080/"
        },
        "id": "OSzLX7m1E1DV",
        "outputId": "dc81a65f-aea2-494d-d929-3a70767ba8b0"
      },
      "execution_count": 193,
      "outputs": [
        {
          "output_type": "execute_result",
          "data": {
            "text/plain": [
              "torch.Size([16])"
            ]
          },
          "metadata": {},
          "execution_count": 193
        }
      ]
    },
    {
      "cell_type": "code",
      "source": [
        "pesos1 = params[2]\n",
        "pesos1.shape"
      ],
      "metadata": {
        "colab": {
          "base_uri": "https://localhost:8080/"
        },
        "id": "8MpLfkgWMUw1",
        "outputId": "e6c17555-add2-494e-fb92-8d6f211df42c"
      },
      "execution_count": 194,
      "outputs": [
        {
          "output_type": "execute_result",
          "data": {
            "text/plain": [
              "torch.Size([16, 16])"
            ]
          },
          "metadata": {},
          "execution_count": 194
        }
      ]
    },
    {
      "cell_type": "code",
      "source": [
        "bias1 = params[3]\n",
        "bias1.shape"
      ],
      "metadata": {
        "colab": {
          "base_uri": "https://localhost:8080/"
        },
        "id": "xQhvyT79Mfmh",
        "outputId": "4b737f62-f436-425d-875d-64352e23ae69"
      },
      "execution_count": 195,
      "outputs": [
        {
          "output_type": "execute_result",
          "data": {
            "text/plain": [
              "torch.Size([16])"
            ]
          },
          "metadata": {},
          "execution_count": 195
        }
      ]
    },
    {
      "cell_type": "code",
      "source": [
        "## Avaliação Modelo\n",
        "\n",
        "classificador.eval()"
      ],
      "metadata": {
        "colab": {
          "base_uri": "https://localhost:8080/"
        },
        "id": "nbzgb1UoMlSz",
        "outputId": "e11cd9b5-7bad-4cdf-cd8a-2fbd8fdc9306"
      },
      "execution_count": 196,
      "outputs": [
        {
          "output_type": "execute_result",
          "data": {
            "text/plain": [
              "Sequential(\n",
              "  (0): Linear(in_features=30, out_features=16, bias=True)\n",
              "  (1): ReLU()\n",
              "  (2): Linear(in_features=16, out_features=16, bias=True)\n",
              "  (3): ReLU()\n",
              "  (4): Linear(in_features=16, out_features=1, bias=True)\n",
              "  (5): Sigmoid()\n",
              ")"
            ]
          },
          "metadata": {},
          "execution_count": 196
        }
      ]
    },
    {
      "cell_type": "code",
      "source": [
        "type(previsores_teste)"
      ],
      "metadata": {
        "colab": {
          "base_uri": "https://localhost:8080/"
        },
        "id": "aScsynvdMz7U",
        "outputId": "ea452cb2-e602-46c1-e2ae-0caca35765b4"
      },
      "execution_count": 197,
      "outputs": [
        {
          "output_type": "execute_result",
          "data": {
            "text/plain": [
              "pandas.core.frame.DataFrame"
            ]
          },
          "metadata": {},
          "execution_count": 197
        }
      ]
    },
    {
      "cell_type": "code",
      "source": [
        "previsores_teste = torch.tensor(np.array(previsores_teste), dtype = torch.float)"
      ],
      "metadata": {
        "id": "dU75mRmyNBgU"
      },
      "execution_count": 198,
      "outputs": []
    },
    {
      "cell_type": "code",
      "source": [
        "type(previsores_teste)"
      ],
      "metadata": {
        "colab": {
          "base_uri": "https://localhost:8080/"
        },
        "id": "e-RHEqPdNLNS",
        "outputId": "693758b6-4223-43a9-cfbf-8868ae2db7c6"
      },
      "execution_count": 199,
      "outputs": [
        {
          "output_type": "execute_result",
          "data": {
            "text/plain": [
              "torch.Tensor"
            ]
          },
          "metadata": {},
          "execution_count": 199
        }
      ]
    },
    {
      "cell_type": "code",
      "source": [
        "previsoes = classificador.forward(previsores_teste)"
      ],
      "metadata": {
        "id": "qU5Dcwp2NPA8"
      },
      "execution_count": 200,
      "outputs": []
    },
    {
      "cell_type": "code",
      "source": [
        "previsoes"
      ],
      "metadata": {
        "colab": {
          "base_uri": "https://localhost:8080/"
        },
        "id": "dh_9Jp3nNYyE",
        "outputId": "d97c0b08-b26d-44c7-d0ac-8fdba951274e"
      },
      "execution_count": 201,
      "outputs": [
        {
          "output_type": "execute_result",
          "data": {
            "text/plain": [
              "tensor([[9.9383e-01],\n",
              "        [1.0000e+00],\n",
              "        [3.1412e-01],\n",
              "        [9.4383e-01],\n",
              "        [1.3290e-04],\n",
              "        [8.4746e-01],\n",
              "        [9.4431e-01],\n",
              "        [9.9988e-01],\n",
              "        [6.2488e-01],\n",
              "        [6.5691e-01],\n",
              "        [9.1439e-01],\n",
              "        [9.9876e-01],\n",
              "        [6.7283e-01],\n",
              "        [9.9518e-01],\n",
              "        [9.9706e-01],\n",
              "        [8.6089e-01],\n",
              "        [9.9605e-01],\n",
              "        [1.0000e+00],\n",
              "        [2.9267e-01],\n",
              "        [9.9612e-01],\n",
              "        [7.4813e-10],\n",
              "        [1.0656e-02],\n",
              "        [5.8519e-01],\n",
              "        [1.0000e+00],\n",
              "        [9.0273e-01],\n",
              "        [4.2905e-03],\n",
              "        [8.2606e-01],\n",
              "        [1.0000e+00],\n",
              "        [1.8561e-04],\n",
              "        [9.9753e-01],\n",
              "        [5.3080e-01],\n",
              "        [9.9999e-01],\n",
              "        [9.2115e-01],\n",
              "        [9.8746e-01],\n",
              "        [4.5453e-01],\n",
              "        [9.9757e-01],\n",
              "        [6.0572e-01],\n",
              "        [9.9787e-01],\n",
              "        [9.9748e-01],\n",
              "        [4.9014e-05],\n",
              "        [6.0460e-03],\n",
              "        [9.2253e-01],\n",
              "        [1.5413e-07],\n",
              "        [4.1097e-01],\n",
              "        [7.4316e-05],\n",
              "        [7.8655e-01],\n",
              "        [1.8864e-04],\n",
              "        [9.6268e-35],\n",
              "        [7.2074e-01],\n",
              "        [1.7409e-02],\n",
              "        [9.8417e-01],\n",
              "        [6.6992e-15],\n",
              "        [9.7841e-01],\n",
              "        [9.5640e-01],\n",
              "        [9.9138e-01],\n",
              "        [6.0331e-01],\n",
              "        [9.9975e-01],\n",
              "        [8.4215e-08],\n",
              "        [1.1872e-05],\n",
              "        [9.9004e-01],\n",
              "        [1.2390e-04],\n",
              "        [9.9692e-01],\n",
              "        [9.9319e-01],\n",
              "        [9.9602e-01],\n",
              "        [7.0414e-01],\n",
              "        [6.4712e-08],\n",
              "        [1.0000e+00],\n",
              "        [1.0000e+00],\n",
              "        [1.0000e+00],\n",
              "        [7.3204e-01],\n",
              "        [1.0000e+00],\n",
              "        [9.6357e-01],\n",
              "        [1.3197e-01],\n",
              "        [9.0052e-01],\n",
              "        [7.0963e-04],\n",
              "        [9.9254e-01],\n",
              "        [9.4545e-01],\n",
              "        [9.3749e-10],\n",
              "        [1.6993e-06],\n",
              "        [4.7240e-01],\n",
              "        [8.8870e-01],\n",
              "        [4.8444e-06],\n",
              "        [2.0672e-07],\n",
              "        [9.9345e-01],\n",
              "        [1.0000e+00],\n",
              "        [1.0000e+00],\n",
              "        [1.3203e-01],\n",
              "        [9.9491e-01],\n",
              "        [1.5942e-03],\n",
              "        [8.1258e-01],\n",
              "        [1.6355e-02],\n",
              "        [9.7659e-01],\n",
              "        [9.7746e-01],\n",
              "        [2.6270e-02],\n",
              "        [9.9540e-01],\n",
              "        [9.9993e-01],\n",
              "        [9.9962e-01],\n",
              "        [9.9701e-01],\n",
              "        [1.3614e-02],\n",
              "        [1.0000e+00],\n",
              "        [9.9988e-01],\n",
              "        [1.0000e+00],\n",
              "        [9.9739e-01],\n",
              "        [9.7277e-01],\n",
              "        [9.1986e-01],\n",
              "        [1.0000e+00],\n",
              "        [1.0000e+00],\n",
              "        [9.9460e-01],\n",
              "        [1.0000e+00],\n",
              "        [9.9676e-01],\n",
              "        [1.0000e+00],\n",
              "        [9.9992e-01],\n",
              "        [8.6228e-01],\n",
              "        [8.5374e-06],\n",
              "        [9.2254e-01],\n",
              "        [2.2421e-04],\n",
              "        [9.9819e-01],\n",
              "        [6.0253e-04],\n",
              "        [9.9744e-01],\n",
              "        [9.9616e-01],\n",
              "        [9.2309e-01],\n",
              "        [7.2682e-01],\n",
              "        [9.9975e-01],\n",
              "        [9.9908e-01],\n",
              "        [4.8349e-07],\n",
              "        [9.8742e-01],\n",
              "        [3.9294e-03],\n",
              "        [3.7220e-01],\n",
              "        [1.0000e+00],\n",
              "        [9.8113e-01],\n",
              "        [1.2626e-09],\n",
              "        [9.0756e-01],\n",
              "        [1.0000e+00],\n",
              "        [2.3129e-02],\n",
              "        [2.6838e-07],\n",
              "        [9.5877e-01],\n",
              "        [9.8706e-01],\n",
              "        [9.9965e-01],\n",
              "        [4.9300e-02],\n",
              "        [1.5985e-05],\n",
              "        [9.7282e-06],\n",
              "        [9.9503e-01],\n",
              "        [2.4759e-11]], grad_fn=<SigmoidBackward0>)"
            ]
          },
          "metadata": {},
          "execution_count": 201
        }
      ]
    },
    {
      "cell_type": "code",
      "source": [
        "previsoes = np.array(previsoes > 0.5)\n",
        "previsoes"
      ],
      "metadata": {
        "colab": {
          "base_uri": "https://localhost:8080/"
        },
        "id": "xtF45eaZNpZ5",
        "outputId": "1c17b804-e534-47e6-c8b8-cd5f6449c21f"
      },
      "execution_count": 202,
      "outputs": [
        {
          "output_type": "execute_result",
          "data": {
            "text/plain": [
              "array([[ True],\n",
              "       [ True],\n",
              "       [False],\n",
              "       [ True],\n",
              "       [False],\n",
              "       [ True],\n",
              "       [ True],\n",
              "       [ True],\n",
              "       [ True],\n",
              "       [ True],\n",
              "       [ True],\n",
              "       [ True],\n",
              "       [ True],\n",
              "       [ True],\n",
              "       [ True],\n",
              "       [ True],\n",
              "       [ True],\n",
              "       [ True],\n",
              "       [False],\n",
              "       [ True],\n",
              "       [False],\n",
              "       [False],\n",
              "       [ True],\n",
              "       [ True],\n",
              "       [ True],\n",
              "       [False],\n",
              "       [ True],\n",
              "       [ True],\n",
              "       [False],\n",
              "       [ True],\n",
              "       [ True],\n",
              "       [ True],\n",
              "       [ True],\n",
              "       [ True],\n",
              "       [False],\n",
              "       [ True],\n",
              "       [ True],\n",
              "       [ True],\n",
              "       [ True],\n",
              "       [False],\n",
              "       [False],\n",
              "       [ True],\n",
              "       [False],\n",
              "       [False],\n",
              "       [False],\n",
              "       [ True],\n",
              "       [False],\n",
              "       [False],\n",
              "       [ True],\n",
              "       [False],\n",
              "       [ True],\n",
              "       [False],\n",
              "       [ True],\n",
              "       [ True],\n",
              "       [ True],\n",
              "       [ True],\n",
              "       [ True],\n",
              "       [False],\n",
              "       [False],\n",
              "       [ True],\n",
              "       [False],\n",
              "       [ True],\n",
              "       [ True],\n",
              "       [ True],\n",
              "       [ True],\n",
              "       [False],\n",
              "       [ True],\n",
              "       [ True],\n",
              "       [ True],\n",
              "       [ True],\n",
              "       [ True],\n",
              "       [ True],\n",
              "       [False],\n",
              "       [ True],\n",
              "       [False],\n",
              "       [ True],\n",
              "       [ True],\n",
              "       [False],\n",
              "       [False],\n",
              "       [False],\n",
              "       [ True],\n",
              "       [False],\n",
              "       [False],\n",
              "       [ True],\n",
              "       [ True],\n",
              "       [ True],\n",
              "       [False],\n",
              "       [ True],\n",
              "       [False],\n",
              "       [ True],\n",
              "       [False],\n",
              "       [ True],\n",
              "       [ True],\n",
              "       [False],\n",
              "       [ True],\n",
              "       [ True],\n",
              "       [ True],\n",
              "       [ True],\n",
              "       [False],\n",
              "       [ True],\n",
              "       [ True],\n",
              "       [ True],\n",
              "       [ True],\n",
              "       [ True],\n",
              "       [ True],\n",
              "       [ True],\n",
              "       [ True],\n",
              "       [ True],\n",
              "       [ True],\n",
              "       [ True],\n",
              "       [ True],\n",
              "       [ True],\n",
              "       [ True],\n",
              "       [False],\n",
              "       [ True],\n",
              "       [False],\n",
              "       [ True],\n",
              "       [False],\n",
              "       [ True],\n",
              "       [ True],\n",
              "       [ True],\n",
              "       [ True],\n",
              "       [ True],\n",
              "       [ True],\n",
              "       [False],\n",
              "       [ True],\n",
              "       [False],\n",
              "       [False],\n",
              "       [ True],\n",
              "       [ True],\n",
              "       [False],\n",
              "       [ True],\n",
              "       [ True],\n",
              "       [False],\n",
              "       [False],\n",
              "       [ True],\n",
              "       [ True],\n",
              "       [ True],\n",
              "       [False],\n",
              "       [False],\n",
              "       [False],\n",
              "       [ True],\n",
              "       [False]])"
            ]
          },
          "metadata": {},
          "execution_count": 202
        }
      ]
    },
    {
      "cell_type": "code",
      "source": [
        "classe_teste"
      ],
      "metadata": {
        "colab": {
          "base_uri": "https://localhost:8080/",
          "height": 423
        },
        "id": "_EcUoC1cOE19",
        "outputId": "c4019cba-3ec2-4642-b389-0f6a70d800b3"
      },
      "execution_count": 203,
      "outputs": [
        {
          "output_type": "execute_result",
          "data": {
            "text/plain": [
              "     0\n",
              "333  1\n",
              "273  1\n",
              "201  0\n",
              "178  1\n",
              "85   0\n",
              "..  ..\n",
              "230  0\n",
              "282  0\n",
              "535  0\n",
              "436  1\n",
              "236  0\n",
              "\n",
              "[143 rows x 1 columns]"
            ],
            "text/html": [
              "\n",
              "  <div id=\"df-8a8410ae-f530-4e89-b986-adc265c61329\">\n",
              "    <div class=\"colab-df-container\">\n",
              "      <div>\n",
              "<style scoped>\n",
              "    .dataframe tbody tr th:only-of-type {\n",
              "        vertical-align: middle;\n",
              "    }\n",
              "\n",
              "    .dataframe tbody tr th {\n",
              "        vertical-align: top;\n",
              "    }\n",
              "\n",
              "    .dataframe thead th {\n",
              "        text-align: right;\n",
              "    }\n",
              "</style>\n",
              "<table border=\"1\" class=\"dataframe\">\n",
              "  <thead>\n",
              "    <tr style=\"text-align: right;\">\n",
              "      <th></th>\n",
              "      <th>0</th>\n",
              "    </tr>\n",
              "  </thead>\n",
              "  <tbody>\n",
              "    <tr>\n",
              "      <th>333</th>\n",
              "      <td>1</td>\n",
              "    </tr>\n",
              "    <tr>\n",
              "      <th>273</th>\n",
              "      <td>1</td>\n",
              "    </tr>\n",
              "    <tr>\n",
              "      <th>201</th>\n",
              "      <td>0</td>\n",
              "    </tr>\n",
              "    <tr>\n",
              "      <th>178</th>\n",
              "      <td>1</td>\n",
              "    </tr>\n",
              "    <tr>\n",
              "      <th>85</th>\n",
              "      <td>0</td>\n",
              "    </tr>\n",
              "    <tr>\n",
              "      <th>...</th>\n",
              "      <td>...</td>\n",
              "    </tr>\n",
              "    <tr>\n",
              "      <th>230</th>\n",
              "      <td>0</td>\n",
              "    </tr>\n",
              "    <tr>\n",
              "      <th>282</th>\n",
              "      <td>0</td>\n",
              "    </tr>\n",
              "    <tr>\n",
              "      <th>535</th>\n",
              "      <td>0</td>\n",
              "    </tr>\n",
              "    <tr>\n",
              "      <th>436</th>\n",
              "      <td>1</td>\n",
              "    </tr>\n",
              "    <tr>\n",
              "      <th>236</th>\n",
              "      <td>0</td>\n",
              "    </tr>\n",
              "  </tbody>\n",
              "</table>\n",
              "<p>143 rows × 1 columns</p>\n",
              "</div>\n",
              "      <button class=\"colab-df-convert\" onclick=\"convertToInteractive('df-8a8410ae-f530-4e89-b986-adc265c61329')\"\n",
              "              title=\"Convert this dataframe to an interactive table.\"\n",
              "              style=\"display:none;\">\n",
              "        \n",
              "  <svg xmlns=\"http://www.w3.org/2000/svg\" height=\"24px\"viewBox=\"0 0 24 24\"\n",
              "       width=\"24px\">\n",
              "    <path d=\"M0 0h24v24H0V0z\" fill=\"none\"/>\n",
              "    <path d=\"M18.56 5.44l.94 2.06.94-2.06 2.06-.94-2.06-.94-.94-2.06-.94 2.06-2.06.94zm-11 1L8.5 8.5l.94-2.06 2.06-.94-2.06-.94L8.5 2.5l-.94 2.06-2.06.94zm10 10l.94 2.06.94-2.06 2.06-.94-2.06-.94-.94-2.06-.94 2.06-2.06.94z\"/><path d=\"M17.41 7.96l-1.37-1.37c-.4-.4-.92-.59-1.43-.59-.52 0-1.04.2-1.43.59L10.3 9.45l-7.72 7.72c-.78.78-.78 2.05 0 2.83L4 21.41c.39.39.9.59 1.41.59.51 0 1.02-.2 1.41-.59l7.78-7.78 2.81-2.81c.8-.78.8-2.07 0-2.86zM5.41 20L4 18.59l7.72-7.72 1.47 1.35L5.41 20z\"/>\n",
              "  </svg>\n",
              "      </button>\n",
              "      \n",
              "  <style>\n",
              "    .colab-df-container {\n",
              "      display:flex;\n",
              "      flex-wrap:wrap;\n",
              "      gap: 12px;\n",
              "    }\n",
              "\n",
              "    .colab-df-convert {\n",
              "      background-color: #E8F0FE;\n",
              "      border: none;\n",
              "      border-radius: 50%;\n",
              "      cursor: pointer;\n",
              "      display: none;\n",
              "      fill: #1967D2;\n",
              "      height: 32px;\n",
              "      padding: 0 0 0 0;\n",
              "      width: 32px;\n",
              "    }\n",
              "\n",
              "    .colab-df-convert:hover {\n",
              "      background-color: #E2EBFA;\n",
              "      box-shadow: 0px 1px 2px rgba(60, 64, 67, 0.3), 0px 1px 3px 1px rgba(60, 64, 67, 0.15);\n",
              "      fill: #174EA6;\n",
              "    }\n",
              "\n",
              "    [theme=dark] .colab-df-convert {\n",
              "      background-color: #3B4455;\n",
              "      fill: #D2E3FC;\n",
              "    }\n",
              "\n",
              "    [theme=dark] .colab-df-convert:hover {\n",
              "      background-color: #434B5C;\n",
              "      box-shadow: 0px 1px 3px 1px rgba(0, 0, 0, 0.15);\n",
              "      filter: drop-shadow(0px 1px 2px rgba(0, 0, 0, 0.3));\n",
              "      fill: #FFFFFF;\n",
              "    }\n",
              "  </style>\n",
              "\n",
              "      <script>\n",
              "        const buttonEl =\n",
              "          document.querySelector('#df-8a8410ae-f530-4e89-b986-adc265c61329 button.colab-df-convert');\n",
              "        buttonEl.style.display =\n",
              "          google.colab.kernel.accessAllowed ? 'block' : 'none';\n",
              "\n",
              "        async function convertToInteractive(key) {\n",
              "          const element = document.querySelector('#df-8a8410ae-f530-4e89-b986-adc265c61329');\n",
              "          const dataTable =\n",
              "            await google.colab.kernel.invokeFunction('convertToInteractive',\n",
              "                                                     [key], {});\n",
              "          if (!dataTable) return;\n",
              "\n",
              "          const docLinkHtml = 'Like what you see? Visit the ' +\n",
              "            '<a target=\"_blank\" href=https://colab.research.google.com/notebooks/data_table.ipynb>data table notebook</a>'\n",
              "            + ' to learn more about interactive tables.';\n",
              "          element.innerHTML = '';\n",
              "          dataTable['output_type'] = 'display_data';\n",
              "          await google.colab.output.renderOutput(dataTable, element);\n",
              "          const docLink = document.createElement('div');\n",
              "          docLink.innerHTML = docLinkHtml;\n",
              "          element.appendChild(docLink);\n",
              "        }\n",
              "      </script>\n",
              "    </div>\n",
              "  </div>\n",
              "  "
            ]
          },
          "metadata": {},
          "execution_count": 203
        }
      ]
    },
    {
      "cell_type": "code",
      "source": [
        "taxa_acerto = accuracy_score(classe_teste, previsoes)\n",
        "taxa_acerto"
      ],
      "metadata": {
        "colab": {
          "base_uri": "https://localhost:8080/"
        },
        "id": "6E0Gt5CiN6fj",
        "outputId": "342738d0-ed06-498d-9d81-23a5ca5d0e75"
      },
      "execution_count": 204,
      "outputs": [
        {
          "output_type": "execute_result",
          "data": {
            "text/plain": [
              "0.9020979020979021"
            ]
          },
          "metadata": {},
          "execution_count": 204
        }
      ]
    },
    {
      "cell_type": "code",
      "source": [
        "matriz = confusion_matrix(classe_teste, previsoes)\n",
        "matriz"
      ],
      "metadata": {
        "colab": {
          "base_uri": "https://localhost:8080/"
        },
        "id": "G365DWyXOvFg",
        "outputId": "0c2e2e08-b50f-495e-9169-acb4ca829445"
      },
      "execution_count": 205,
      "outputs": [
        {
          "output_type": "execute_result",
          "data": {
            "text/plain": [
              "array([[43, 11],\n",
              "       [ 3, 86]])"
            ]
          },
          "metadata": {},
          "execution_count": 205
        }
      ]
    },
    {
      "cell_type": "code",
      "source": [
        "sns.heatmap(matriz, annot=True);"
      ],
      "metadata": {
        "colab": {
          "base_uri": "https://localhost:8080/",
          "height": 430
        },
        "id": "G4NnQVUgOf66",
        "outputId": "c686bc40-d1ad-49c9-d4db-bc3685806b5f"
      },
      "execution_count": 206,
      "outputs": [
        {
          "output_type": "display_data",
          "data": {
            "text/plain": [
              "<Figure size 640x480 with 2 Axes>"
            ],
            "image/png": "[encoded data removed]"
          },
          "metadata": {}
        }
      ]
    }
  ]
}